{
 "cells": [
  {
   "cell_type": "code",
   "execution_count": 1,
   "metadata": {},
   "outputs": [],
   "source": [
    "s = \"435566123666231\""
   ]
  },
  {
   "cell_type": "code",
   "execution_count": 3,
   "metadata": {},
   "outputs": [],
   "source": [
    "import re\n"
   ]
  },
  {
   "cell_type": "code",
   "execution_count": 55,
   "metadata": {},
   "outputs": [
    {
     "data": {
      "text/plain": [
       "[]"
      ]
     },
     "execution_count": 55,
     "metadata": {},
     "output_type": "execute_result"
    }
   ],
   "source": [
    "re.findall(r'(66)(?=\\1)', s)"
   ]
  },
  {
   "cell_type": "code",
   "execution_count": 7,
   "metadata": {},
   "outputs": [],
   "source": [
    "haystack = \"435566123666231\"\n",
    "needle   = \"66\"\n",
    "\n",
    "matches  = sum(haystack[i:i+len(needle)] == needle \n",
    "               for i in range(len(haystack)-len(needle)+1))"
   ]
  },
  {
   "cell_type": "code",
   "execution_count": 8,
   "metadata": {},
   "outputs": [
    {
     "data": {
      "text/plain": [
       "3"
      ]
     },
     "execution_count": 8,
     "metadata": {},
     "output_type": "execute_result"
    }
   ],
   "source": [
    "matches"
   ]
  },
  {
   "cell_type": "code",
   "execution_count": 38,
   "metadata": {},
   "outputs": [],
   "source": [
    "s = \"566111666626634416\""
   ]
  },
  {
   "cell_type": "code",
   "execution_count": 39,
   "metadata": {},
   "outputs": [],
   "source": [
    "prev = False\n",
    "current = False\n",
    "nex = False\n",
    "count = 0\n",
    "for i in range(len(s)):\n",
    "    if s[i] == '6':\n",
    "        if i+1 != len(s):\n",
    "            if s[i+1] != '6' and prev == True:\n",
    "                count += 1\n",
    "                prev = False\n",
    "            elif s[i+1] == '6' and prev == True:\n",
    "                prev = False\n",
    "            else:\n",
    "                prev = True\n",
    "        elif prev == True:\n",
    "            count += 1\n",
    "    else:\n",
    "        prev = False"
   ]
  },
  {
   "cell_type": "code",
   "execution_count": 40,
   "metadata": {},
   "outputs": [
    {
     "data": {
      "text/plain": [
       "3"
      ]
     },
     "execution_count": 40,
     "metadata": {},
     "output_type": "execute_result"
    }
   ],
   "source": [
    "count"
   ]
  },
  {
   "cell_type": "code",
   "execution_count": 41,
   "metadata": {},
   "outputs": [],
   "source": [
    "s = '123456123454353234123456'"
   ]
  },
  {
   "cell_type": "code",
   "execution_count": 63,
   "metadata": {},
   "outputs": [
    {
     "data": {
      "text/plain": [
       "[1, 2, 3, 4, 5, 6, 1, 2, 3, 4, 5, 4, 3, 5, 3, 2, 3, 4, 1, 2, 3, 4, 5, 6]"
      ]
     },
     "execution_count": 63,
     "metadata": {},
     "output_type": "execute_result"
    }
   ],
   "source": [
    "arr = [int(x) for x in s]\n",
    "arr"
   ]
  },
  {
   "cell_type": "code",
   "execution_count": 62,
   "metadata": {},
   "outputs": [
    {
     "data": {
      "text/plain": [
       "['12345', '12345', '12345']"
      ]
     },
     "execution_count": 62,
     "metadata": {},
     "output_type": "execute_result"
    }
   ],
   "source": [
    "re.findall(r'(12345)(?=6)',s)\n",
    "re.findall(r'(12345)(?!=6)',s)"
   ]
  },
  {
   "cell_type": "code",
   "execution_count": 71,
   "metadata": {},
   "outputs": [
    {
     "name": "stdout",
     "output_type": "stream",
     "text": [
      "Length of lis is  5\n"
     ]
    }
   ],
   "source": [
    "global maximum \n",
    "  \n",
    "def _lis(arr, n ): \n",
    "  \n",
    "    # to allow the access of global variable \n",
    "    global maximum \n",
    "  \n",
    "    # Base Case \n",
    "    if n == 1 : \n",
    "        return 1\n",
    "  \n",
    "    # maxEndingHere is the length of LIS ending with arr[n-1] \n",
    "    maxEndingHere = 1\n",
    "  \n",
    "    \"\"\"Recursively get all LIS ending with arr[0], arr[1]..arr[n-2] \n",
    "       IF arr[n-1] is maller than arr[n-1], and max ending with \n",
    "       arr[n-1] needs to be updated, then update it\"\"\"\n",
    "    for i in range(1, n): \n",
    "        res = _lis(arr, i) \n",
    "        if arr[i-1] < arr[n-1]  and res + 1 > maxEndingHere: \n",
    "            maxEndingHere = res + 1\n",
    "  \n",
    "    # Compare maxEndingHere with overall maximum. And \n",
    "    # update the overall maximum if needed \n",
    "    maximum = max(maximum, maxEndingHere) \n",
    "  \n",
    "    return maxEndingHere \n",
    "  \n",
    "def lis(arr): \n",
    "  \n",
    "    # to allow the access of global variable \n",
    "    global maximum \n",
    "  \n",
    "    # lenght of arr \n",
    "    n = len(arr) \n",
    "  \n",
    "    # maximum variable holds the result \n",
    "    maximum = 1\n",
    "  \n",
    "    # The function _lis() stores its result in maximum \n",
    "    _lis(arr, n) \n",
    "  \n",
    "    return maximum \n",
    "  \n",
    "# Driver program to test the above function\n",
    "arr = [int(x) for x in s if x != '6']\n",
    "n = len(arr) \n",
    "print (\"Length of lis is \", lis(arr) )\n"
   ]
  },
  {
   "cell_type": "code",
   "execution_count": 70,
   "metadata": {},
   "outputs": [
    {
     "data": {
      "text/plain": [
       "[1, 2, 3, 4, 5, 1, 2, 3, 4, 5, 4, 3, 5, 3, 2, 3, 4, 1, 2, 3, 4, 5]"
      ]
     },
     "execution_count": 70,
     "metadata": {},
     "output_type": "execute_result"
    }
   ],
   "source": [
    "[int(x) for x in s if x != '6']"
   ]
  },
  {
   "cell_type": "code",
   "execution_count": 1,
   "metadata": {},
   "outputs": [],
   "source": [
    "import re"
   ]
  },
  {
   "cell_type": "code",
   "execution_count": 2,
   "metadata": {},
   "outputs": [],
   "source": [
    "from collections import Counter"
   ]
  },
  {
   "cell_type": "code",
   "execution_count": 7,
   "metadata": {},
   "outputs": [
    {
     "data": {
      "text/plain": [
       "1"
      ]
     },
     "execution_count": 7,
     "metadata": {},
     "output_type": "execute_result"
    }
   ],
   "source": [
    "# 1\n",
    "len(re.findall(r'(^66)[^6]|[^6](66)[^6]|[^6]66$','6615666'))"
   ]
  },
  {
   "cell_type": "code",
   "execution_count": 8,
   "metadata": {},
   "outputs": [
    {
     "data": {
      "text/plain": [
       "4"
      ]
     },
     "execution_count": 8,
     "metadata": {},
     "output_type": "execute_result"
    }
   ],
   "source": [
    "# 2\n",
    "res = re.split('6','456116513656124566')\n",
    "max(len(a) for a in res)"
   ]
  },
  {
   "cell_type": "code",
   "execution_count": 15,
   "metadata": {},
   "outputs": [
    {
     "name": "stdout",
     "output_type": "stream",
     "text": [
      "3\n"
     ]
    }
   ],
   "source": [
    "res = re.split(r'[^56]','456116513656124566')\n",
    "res_len = [len(a) for a in res if a!='']\n",
    "if (not res_len):\n",
    "    print(0)\n",
    "else:\n",
    "    most_freq = Counter(res_len)\n",
    "    print(max([a for a in most_freq if most_freq[a] == max(most_freq.values())]))"
   ]
  },
  {
   "cell_type": "code",
   "execution_count": 20,
   "metadata": {},
   "outputs": [
    {
     "name": "stdout",
     "output_type": "stream",
     "text": [
      "1234\n"
     ]
    }
   ],
   "source": [
    "i\n",
    "input_str = input()\n",
    "if not re.match(\"^[1-6]*$\", input_str):\n",
    "    print(\"Error! Only letters 1-6 allowed!\")"
   ]
  },
  {
   "cell_type": "code",
   "execution_count": 4,
   "metadata": {},
   "outputs": [
    {
     "name": "stdout",
     "output_type": "stream",
     "text": [
      "3\n",
      "sfj\n",
      "Error! Only letters 1-6 allowed!\n",
      "Please input again\n",
      "12345\n",
      "Please input of lenght 3\n",
      "234\n"
     ]
    }
   ],
   "source": [
    "import re\n",
    "while True:\n",
    "    input_len = input()\n",
    "    try:\n",
    "        int(input_len)\n",
    "    except:\n",
    "        print('wrong input.\\nPlease input again')\n",
    "        continue\n",
    "    length = int(input_len)\n",
    "    if (length<1 or length>1000000):\n",
    "        print('Please input b/w 1 and 1000000')\n",
    "        continue\n",
    "    break\n",
    "while True:\n",
    "    input_str = input()\n",
    "    if not re.match(\"^[1-6]*$\", input_str):\n",
    "        print(\"Error! Only Numbers 1-6 allowed!\\nPlease input again\")\n",
    "        continue\n",
    "    if len(input_str) != length:\n",
    "        print('Please input of lenght',length)\n",
    "        continue\n",
    "    break"
   ]
  },
  {
   "cell_type": "code",
   "execution_count": null,
   "metadata": {},
   "outputs": [],
   "source": []
  }
 ],
 "metadata": {
  "kernelspec": {
   "display_name": "Python 3",
   "language": "python",
   "name": "python3"
  },
  "language_info": {
   "codemirror_mode": {
    "name": "ipython",
    "version": 3
   },
   "file_extension": ".py",
   "mimetype": "text/x-python",
   "name": "python",
   "nbconvert_exporter": "python",
   "pygments_lexer": "ipython3",
   "version": "3.7.1"
  }
 },
 "nbformat": 4,
 "nbformat_minor": 2
}
