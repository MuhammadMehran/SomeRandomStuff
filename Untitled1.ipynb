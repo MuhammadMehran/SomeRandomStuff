{
 "cells": [
  {
   "cell_type": "code",
   "execution_count": 1,
   "metadata": {},
   "outputs": [],
   "source": [
    "import sys\n",
    "from urllib.request import urlopen, Request\n",
    "import urllib.parse as urlparse\n",
    "import time\n",
    "from bs4 import BeautifulSoup\n",
    "import socket"
   ]
  },
  {
   "cell_type": "code",
   "execution_count": 2,
   "metadata": {},
   "outputs": [],
   "source": [
    "REQUEST_HEADER = {\n",
    "    'User-Agent': \"Mozilla/5.0 (Windows NT 6.1; WOW64) AppleWebKit/537.36 (KHTML, like Gecko) Chrome/43.0.2357.134 Safari/537.36\"}\n"
   ]
  },
  {
   "cell_type": "code",
   "execution_count": 7,
   "metadata": {},
   "outputs": [],
   "source": [
    "url = 'https://www.bestfunforall.com/minions-wallpapers'\n",
    "# socket.setdefaulttimeout(30)\n"
   ]
  },
  {
   "cell_type": "code",
   "execution_count": 10,
   "metadata": {},
   "outputs": [],
   "source": [
    "response = urlopen(Request(url, headers=REQUEST_HEADER))\n",
    "soup =BeautifulSoup(response, 'html.parser').encode(\"utf-8\")"
   ]
  },
  {
   "cell_type": "code",
   "execution_count": 12,
   "metadata": {},
   "outputs": [],
   "source": [
    "album = soup.find('div', attrs={'id': 'album'})"
   ]
  },
  {
   "cell_type": "code",
   "execution_count": 34,
   "metadata": {},
   "outputs": [],
   "source": [
    "def write_to_file(path,alt_tag,alt_title,url,search_word):\n",
    "    a = path\n",
    "    a = a.replace(' ','-').lower()\n",
    "    #alt_tag = \"this is test tag\"\n",
    "    #alt_title = \"this is alt title\"\n",
    "    message = \"\"\"\n",
    "    <li class=\"wall\">\n",
    "    <a class=\"thumbimg\" href=\"<?php echo $link; ?>/view-page/?image_url=<?php echo $link; ?>/{URL}&title={TITLE}&source={IMGURL}&alt={ALT}\" target=\"_blank\" alt=\"{ALT}\" title=\"{TITLE}\">\n",
    "    <img src=\"{URL}\"  alt=\"{ALT}\" title=\"Find more {TITLE} at {IMGURL}\" width=\"200\" height=\"150\"  >\n",
    "    </a>\n",
    "    </li>\n",
    "    \"\"\"\n",
    "\n",
    "    new_message = message.format(URL=a, ALT=alt_tag, TITLE=alt_title, IMGURL=url)\n",
    "\n",
    "    # Write to HTML to file.html\n",
    "    with open(search_word.replace(\" \",\"-\").lower() +\".php\", \"a\") as file:\n",
    "        file.write(new_message)"
   ]
  },
  {
   "cell_type": "code",
   "execution_count": 35,
   "metadata": {},
   "outputs": [],
   "source": [
    "def download_image(url, image_count, name, alt):\n",
    "    req = Request(url, headers=REQUEST_HEADER)\n",
    "    resp = urlopen(req)\n",
    "    extension = url.split('.')[-1]\n",
    "    save_path = 'imgs/' + name + '-' + str(image_count) + '.' + extension\n",
    "    with open(save_path, 'wb+') as image_file:\n",
    "        image_file.write(resp.read())\n",
    "    write_to_file(save_path,alt,alt,url,name)"
   ]
  },
  {
   "cell_type": "code",
   "execution_count": null,
   "metadata": {},
   "outputs": [],
   "source": [
    "i = 1\n",
    "for link in album.findAll(\"img\"):\n",
    "    alt = link.get('alt')\n",
    "    url = link.get('src')\n",
    "    url = url[3:]\n",
    "    url = 'http://clipart-library.com/' + url\n",
    "#     print(url)\n",
    "    download_image(url , i, 'christmastest', alt)\n",
    "    i+=1"
   ]
  },
  {
   "cell_type": "code",
   "execution_count": null,
   "metadata": {},
   "outputs": [],
   "source": [
    "url = 'http://clipart-library.com/christmas-cliparts.html'\n",
    "url.split('/')[-1].split('.')[0]"
   ]
  },
  {
   "cell_type": "code",
   "execution_count": 3,
   "metadata": {},
   "outputs": [],
   "source": [
    "urls = ['https://www.bestfunforall.com/harry-potter-brunette-face-bellatrix-lestrange-helena-bonhamcarter-hd-wallpaper/']"
   ]
  },
  {
   "cell_type": "code",
   "execution_count": 1,
   "metadata": {},
   "outputs": [],
   "source": [
    "from bs4 import BeautifulSoup"
   ]
  },
  {
   "cell_type": "code",
   "execution_count": 9,
   "metadata": {},
   "outputs": [],
   "source": [
    "file = open('index.html')\n",
    "soup = BeautifulSoup(file, 'html.parser')\n",
    "file.close()"
   ]
  },
  {
   "cell_type": "code",
   "execution_count": 12,
   "metadata": {},
   "outputs": [],
   "source": [
    "posts = soup.findAll('div',attrs={'class':'post'})"
   ]
  },
  {
   "cell_type": "code",
   "execution_count": 13,
   "metadata": {},
   "outputs": [
    {
     "data": {
      "text/plain": [
       "1"
      ]
     },
     "execution_count": 13,
     "metadata": {},
     "output_type": "execute_result"
    }
   ],
   "source": [
    "len(posts)"
   ]
  },
  {
   "cell_type": "code",
   "execution_count": 23,
   "metadata": {},
   "outputs": [],
   "source": [
    "import glob"
   ]
  },
  {
   "cell_type": "code",
   "execution_count": 28,
   "metadata": {},
   "outputs": [],
   "source": [
    "files = glob.glob('pages/*.php')"
   ]
  },
  {
   "cell_type": "code",
   "execution_count": 29,
   "metadata": {},
   "outputs": [],
   "source": [
    "post_files = glob.glob('posts/*.php')"
   ]
  },
  {
   "cell_type": "code",
   "execution_count": 30,
   "metadata": {},
   "outputs": [],
   "source": [
    "msg = \"\"\"\n",
    "                    <div  class=\"col-6 col-md-6 col-lg-3 post\" data-aos=\"fade-up\">\n",
    "                        <a href=\"{url}\" class=\"d-block photo-item\">\n",
    "                            <img src=\"{img_src}\" alt=\"Image\" class=\"img-fluid\">\n",
    "                            <div class=\"photo-text-more\">\n",
    "                                <div class=\"photo-text-more\">\n",
    "                                    <h3 class=\"heading\">{title}</h3>\n",
    "                                    <span class=\"meta\">{np} Photos</span>\n",
    "                                </div>\n",
    "                            </div>\n",
    "                        </a>\n",
    "                    </div>\n",
    "\"\"\""
   ]
  },
  {
   "cell_type": "code",
   "execution_count": 31,
   "metadata": {},
   "outputs": [],
   "source": [
    "if (len(post_files) == 0):\n",
    "    filename = 1\n",
    "else:\n",
    "    filename = len(post_files)\n",
    "count = 1\n",
    "for file in files:\n",
    "    file_html = open(file)\n",
    "    soup = BeautifulSoup(file_html, 'html.parser')\n",
    "    imgs = soup.findAll('img')\n",
    "    f_name = file.replace('\\\\','/')\n",
    "    f_name = f_name.split('/')[-1]\n",
    "    new_msg = msg.format(img_src=imgs[0].get('src'),np=str(len(imgs)),url='pages/'+f_name)\n",
    "    file_html.close()\n",
    "    count += 1\n",
    "    if count > 5:\n",
    "        filename += 1\n",
    "        count = 0\n",
    "    with open('posts/'+str(filename)+'.php','a') as f:\n",
    "        f.write(new_msg)"
   ]
  },
  {
   "cell_type": "code",
   "execution_count": 32,
   "metadata": {},
   "outputs": [
    {
     "data": {
      "text/plain": [
       "['pages\\\\avengers.php',\n",
       " 'pages\\\\basketball-wallpaper.php',\n",
       " 'pages\\\\batman.php',\n",
       " 'pages\\\\captain-america.php',\n",
       " 'pages\\\\cricket-wallpaper.php',\n",
       " 'pages\\\\deadpool.php',\n",
       " 'pages\\\\doctor-strange.php',\n",
       " 'pages\\\\football-wallpaper.php',\n",
       " 'pages\\\\joker.php',\n",
       " 'pages\\\\justice-league.php',\n",
       " 'pages\\\\marvel-wallpaper.php',\n",
       " 'pages\\\\rick-and-morty-wallpaper.php',\n",
       " 'pages\\\\rugby-wallpaper.php',\n",
       " 'pages\\\\spider-man.php',\n",
       " 'pages\\\\superman.php',\n",
       " 'pages\\\\titans.php',\n",
       " 'pages\\\\wolverine.php']"
      ]
     },
     "execution_count": 32,
     "metadata": {},
     "output_type": "execute_result"
    }
   ],
   "source": [
    "files"
   ]
  },
  {
   "cell_type": "code",
   "execution_count": null,
   "metadata": {},
   "outputs": [],
   "source": []
  }
 ],
 "metadata": {
  "kernelspec": {
   "display_name": "Python 3",
   "language": "python",
   "name": "python3"
  },
  "language_info": {
   "codemirror_mode": {
    "name": "ipython",
    "version": 3
   },
   "file_extension": ".py",
   "mimetype": "text/x-python",
   "name": "python",
   "nbconvert_exporter": "python",
   "pygments_lexer": "ipython3",
   "version": "3.7.1"
  }
 },
 "nbformat": 4,
 "nbformat_minor": 2
}
