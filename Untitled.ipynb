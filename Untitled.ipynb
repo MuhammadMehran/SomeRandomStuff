{
 "cells": [
  {
   "cell_type": "code",
   "execution_count": 7,
   "metadata": {},
   "outputs": [],
   "source": [
    "from selenium import webdriver\n",
    "import time\n",
    "from selenium.webdriver.common.by import By\n",
    "from selenium.webdriver.support.ui import WebDriverWait\n",
    "from selenium.webdriver.support import expected_conditions as EC\n",
    "from selenium.common.exceptions import TimeoutException"
   ]
  },
  {
   "cell_type": "code",
   "execution_count": 8,
   "metadata": {},
   "outputs": [
    {
     "name": "stderr",
     "output_type": "stream",
     "text": [
      "C:\\Users\\Mehran\\AppData\\Local\\Continuum\\anaconda3\\lib\\site-packages\\ipykernel_launcher.py:5: DeprecationWarning: use options instead of chrome_options\n",
      "  \"\"\"\n"
     ]
    }
   ],
   "source": [
    "from selenium.webdriver.chrome.options import Options\n",
    "chrome_options = Options()\n",
    "\n",
    "# chrome_options.add_argument(\"--headless\")\n",
    "driver = webdriver.Chrome(chrome_options=chrome_options)"
   ]
  },
  {
   "cell_type": "code",
   "execution_count": 9,
   "metadata": {},
   "outputs": [],
   "source": [
    "driver.set_page_load_timeout(60)"
   ]
  },
  {
   "cell_type": "code",
   "execution_count": 10,
   "metadata": {},
   "outputs": [],
   "source": [
    "from urllib.request import urlopen, Request\n",
    "REQUEST_HEADER = {\n",
    "    'User-Agent': \"Mozilla/5.0 (Windows NT 6.1; WOW64) AppleWebKit/537.36 (KHTML, like Gecko) Chrome/43.0.2357.134 Safari/537.36\"}\n"
   ]
  },
  {
   "cell_type": "code",
   "execution_count": 11,
   "metadata": {},
   "outputs": [],
   "source": [
    "keywords = open('keywords.txt')"
   ]
  },
  {
   "cell_type": "code",
   "execution_count": 12,
   "metadata": {},
   "outputs": [
    {
     "name": "stdout",
     "output_type": "stream",
     "text": [
      "Message: no such element: Unable to locate element: {\"method\":\"css selector\",\"selector\":\"[id=\"pagebox\"]\"}\n",
      "  (Session info: chrome=76.0.3809.132)\n",
      "\n",
      "Message: no such element: Unable to locate element: {\"method\":\"css selector\",\"selector\":\"[id=\"pagebox\"]\"}\n",
      "  (Session info: chrome=76.0.3809.132)\n",
      "\n",
      "Message: no such element: Unable to locate element: {\"method\":\"css selector\",\"selector\":\"[id=\"pagebox\"]\"}\n",
      "  (Session info: chrome=76.0.3809.132)\n",
      "\n",
      "Message: timeout\n",
      "  (Session info: chrome=76.0.3809.132)\n",
      "\n",
      "Message: timeout\n",
      "  (Session info: chrome=76.0.3809.132)\n",
      "\n",
      "Message: timeout\n",
      "  (Session info: chrome=76.0.3809.132)\n",
      "\n",
      "Message: timeout\n",
      "  (Session info: chrome=76.0.3809.132)\n",
      "\n",
      "Message: timeout\n",
      "  (Session info: chrome=76.0.3809.132)\n",
      "\n",
      "Message: timeout\n",
      "  (Session info: chrome=76.0.3809.132)\n",
      "\n",
      "Message: timeout\n",
      "  (Session info: chrome=76.0.3809.132)\n",
      "\n",
      "Message: timeout\n",
      "  (Session info: chrome=76.0.3809.132)\n",
      "\n"
     ]
    },
    {
     "ename": "KeyboardInterrupt",
     "evalue": "",
     "output_type": "error",
     "traceback": [
      "\u001b[1;31m---------------------------------------------------------------------------\u001b[0m",
      "\u001b[1;31mTypeError\u001b[0m                                 Traceback (most recent call last)",
      "\u001b[1;32m~\\AppData\\Local\\Continuum\\anaconda3\\lib\\site-packages\\urllib3\\connectionpool.py\u001b[0m in \u001b[0;36m_make_request\u001b[1;34m(self, conn, method, url, timeout, chunked, **httplib_request_kw)\u001b[0m\n\u001b[0;32m    379\u001b[0m             \u001b[1;32mtry\u001b[0m\u001b[1;33m:\u001b[0m  \u001b[1;31m# Python 2.7, use buffering of HTTP responses\u001b[0m\u001b[1;33m\u001b[0m\u001b[1;33m\u001b[0m\u001b[0m\n\u001b[1;32m--> 380\u001b[1;33m                 \u001b[0mhttplib_response\u001b[0m \u001b[1;33m=\u001b[0m \u001b[0mconn\u001b[0m\u001b[1;33m.\u001b[0m\u001b[0mgetresponse\u001b[0m\u001b[1;33m(\u001b[0m\u001b[0mbuffering\u001b[0m\u001b[1;33m=\u001b[0m\u001b[1;32mTrue\u001b[0m\u001b[1;33m)\u001b[0m\u001b[1;33m\u001b[0m\u001b[1;33m\u001b[0m\u001b[0m\n\u001b[0m\u001b[0;32m    381\u001b[0m             \u001b[1;32mexcept\u001b[0m \u001b[0mTypeError\u001b[0m\u001b[1;33m:\u001b[0m  \u001b[1;31m# Python 2.6 and older, Python 3\u001b[0m\u001b[1;33m\u001b[0m\u001b[1;33m\u001b[0m\u001b[0m\n",
      "\u001b[1;31mTypeError\u001b[0m: getresponse() got an unexpected keyword argument 'buffering'",
      "\nDuring handling of the above exception, another exception occurred:\n",
      "\u001b[1;31mKeyboardInterrupt\u001b[0m                         Traceback (most recent call last)",
      "\u001b[1;32m<ipython-input-12-ad8d328bec04>\u001b[0m in \u001b[0;36m<module>\u001b[1;34m\u001b[0m\n\u001b[0;32m     33\u001b[0m     \u001b[1;32mfor\u001b[0m \u001b[0mimg_link\u001b[0m \u001b[1;32min\u001b[0m \u001b[0mimg_links\u001b[0m\u001b[1;33m:\u001b[0m\u001b[1;33m\u001b[0m\u001b[1;33m\u001b[0m\u001b[0m\n\u001b[0;32m     34\u001b[0m         \u001b[1;32mtry\u001b[0m\u001b[1;33m:\u001b[0m\u001b[1;33m\u001b[0m\u001b[1;33m\u001b[0m\u001b[0m\n\u001b[1;32m---> 35\u001b[1;33m             \u001b[0mdriver\u001b[0m\u001b[1;33m.\u001b[0m\u001b[0mget\u001b[0m\u001b[1;33m(\u001b[0m\u001b[0mimg_link\u001b[0m\u001b[1;33m)\u001b[0m\u001b[1;33m\u001b[0m\u001b[1;33m\u001b[0m\u001b[0m\n\u001b[0m\u001b[0;32m     36\u001b[0m             \u001b[0mimg\u001b[0m \u001b[1;33m=\u001b[0m\u001b[0mdriver\u001b[0m\u001b[1;33m.\u001b[0m\u001b[0mfind_element_by_id\u001b[0m\u001b[1;33m(\u001b[0m\u001b[1;34m'pagebox'\u001b[0m\u001b[1;33m)\u001b[0m\u001b[1;33m.\u001b[0m\u001b[0mfind_element_by_tag_name\u001b[0m\u001b[1;33m(\u001b[0m\u001b[1;34m'img'\u001b[0m\u001b[1;33m)\u001b[0m\u001b[1;33m\u001b[0m\u001b[1;33m\u001b[0m\u001b[0m\n\u001b[0;32m     37\u001b[0m             \u001b[0malt\u001b[0m \u001b[1;33m=\u001b[0m \u001b[0mimg\u001b[0m\u001b[1;33m.\u001b[0m\u001b[0mget_attribute\u001b[0m\u001b[1;33m(\u001b[0m\u001b[1;34m'alt'\u001b[0m\u001b[1;33m)\u001b[0m\u001b[1;33m\u001b[0m\u001b[1;33m\u001b[0m\u001b[0m\n",
      "\u001b[1;32m~\\AppData\\Local\\Continuum\\anaconda3\\lib\\site-packages\\selenium\\webdriver\\remote\\webdriver.py\u001b[0m in \u001b[0;36mget\u001b[1;34m(self, url)\u001b[0m\n\u001b[0;32m    331\u001b[0m         \u001b[0mLoads\u001b[0m \u001b[0ma\u001b[0m \u001b[0mweb\u001b[0m \u001b[0mpage\u001b[0m \u001b[1;32min\u001b[0m \u001b[0mthe\u001b[0m \u001b[0mcurrent\u001b[0m \u001b[0mbrowser\u001b[0m \u001b[0msession\u001b[0m\u001b[1;33m.\u001b[0m\u001b[1;33m\u001b[0m\u001b[1;33m\u001b[0m\u001b[0m\n\u001b[0;32m    332\u001b[0m         \"\"\"\n\u001b[1;32m--> 333\u001b[1;33m         \u001b[0mself\u001b[0m\u001b[1;33m.\u001b[0m\u001b[0mexecute\u001b[0m\u001b[1;33m(\u001b[0m\u001b[0mCommand\u001b[0m\u001b[1;33m.\u001b[0m\u001b[0mGET\u001b[0m\u001b[1;33m,\u001b[0m \u001b[1;33m{\u001b[0m\u001b[1;34m'url'\u001b[0m\u001b[1;33m:\u001b[0m \u001b[0murl\u001b[0m\u001b[1;33m}\u001b[0m\u001b[1;33m)\u001b[0m\u001b[1;33m\u001b[0m\u001b[1;33m\u001b[0m\u001b[0m\n\u001b[0m\u001b[0;32m    334\u001b[0m \u001b[1;33m\u001b[0m\u001b[0m\n\u001b[0;32m    335\u001b[0m     \u001b[1;33m@\u001b[0m\u001b[0mproperty\u001b[0m\u001b[1;33m\u001b[0m\u001b[1;33m\u001b[0m\u001b[0m\n",
      "\u001b[1;32m~\\AppData\\Local\\Continuum\\anaconda3\\lib\\site-packages\\selenium\\webdriver\\remote\\webdriver.py\u001b[0m in \u001b[0;36mexecute\u001b[1;34m(self, driver_command, params)\u001b[0m\n\u001b[0;32m    317\u001b[0m \u001b[1;33m\u001b[0m\u001b[0m\n\u001b[0;32m    318\u001b[0m         \u001b[0mparams\u001b[0m \u001b[1;33m=\u001b[0m \u001b[0mself\u001b[0m\u001b[1;33m.\u001b[0m\u001b[0m_wrap_value\u001b[0m\u001b[1;33m(\u001b[0m\u001b[0mparams\u001b[0m\u001b[1;33m)\u001b[0m\u001b[1;33m\u001b[0m\u001b[1;33m\u001b[0m\u001b[0m\n\u001b[1;32m--> 319\u001b[1;33m         \u001b[0mresponse\u001b[0m \u001b[1;33m=\u001b[0m \u001b[0mself\u001b[0m\u001b[1;33m.\u001b[0m\u001b[0mcommand_executor\u001b[0m\u001b[1;33m.\u001b[0m\u001b[0mexecute\u001b[0m\u001b[1;33m(\u001b[0m\u001b[0mdriver_command\u001b[0m\u001b[1;33m,\u001b[0m \u001b[0mparams\u001b[0m\u001b[1;33m)\u001b[0m\u001b[1;33m\u001b[0m\u001b[1;33m\u001b[0m\u001b[0m\n\u001b[0m\u001b[0;32m    320\u001b[0m         \u001b[1;32mif\u001b[0m \u001b[0mresponse\u001b[0m\u001b[1;33m:\u001b[0m\u001b[1;33m\u001b[0m\u001b[1;33m\u001b[0m\u001b[0m\n\u001b[0;32m    321\u001b[0m             \u001b[0mself\u001b[0m\u001b[1;33m.\u001b[0m\u001b[0merror_handler\u001b[0m\u001b[1;33m.\u001b[0m\u001b[0mcheck_response\u001b[0m\u001b[1;33m(\u001b[0m\u001b[0mresponse\u001b[0m\u001b[1;33m)\u001b[0m\u001b[1;33m\u001b[0m\u001b[1;33m\u001b[0m\u001b[0m\n",
      "\u001b[1;32m~\\AppData\\Local\\Continuum\\anaconda3\\lib\\site-packages\\selenium\\webdriver\\remote\\remote_connection.py\u001b[0m in \u001b[0;36mexecute\u001b[1;34m(self, command, params)\u001b[0m\n\u001b[0;32m    372\u001b[0m         \u001b[0mdata\u001b[0m \u001b[1;33m=\u001b[0m \u001b[0mutils\u001b[0m\u001b[1;33m.\u001b[0m\u001b[0mdump_json\u001b[0m\u001b[1;33m(\u001b[0m\u001b[0mparams\u001b[0m\u001b[1;33m)\u001b[0m\u001b[1;33m\u001b[0m\u001b[1;33m\u001b[0m\u001b[0m\n\u001b[0;32m    373\u001b[0m         \u001b[0murl\u001b[0m \u001b[1;33m=\u001b[0m \u001b[1;34m'%s%s'\u001b[0m \u001b[1;33m%\u001b[0m \u001b[1;33m(\u001b[0m\u001b[0mself\u001b[0m\u001b[1;33m.\u001b[0m\u001b[0m_url\u001b[0m\u001b[1;33m,\u001b[0m \u001b[0mpath\u001b[0m\u001b[1;33m)\u001b[0m\u001b[1;33m\u001b[0m\u001b[1;33m\u001b[0m\u001b[0m\n\u001b[1;32m--> 374\u001b[1;33m         \u001b[1;32mreturn\u001b[0m \u001b[0mself\u001b[0m\u001b[1;33m.\u001b[0m\u001b[0m_request\u001b[0m\u001b[1;33m(\u001b[0m\u001b[0mcommand_info\u001b[0m\u001b[1;33m[\u001b[0m\u001b[1;36m0\u001b[0m\u001b[1;33m]\u001b[0m\u001b[1;33m,\u001b[0m \u001b[0murl\u001b[0m\u001b[1;33m,\u001b[0m \u001b[0mbody\u001b[0m\u001b[1;33m=\u001b[0m\u001b[0mdata\u001b[0m\u001b[1;33m)\u001b[0m\u001b[1;33m\u001b[0m\u001b[1;33m\u001b[0m\u001b[0m\n\u001b[0m\u001b[0;32m    375\u001b[0m \u001b[1;33m\u001b[0m\u001b[0m\n\u001b[0;32m    376\u001b[0m     \u001b[1;32mdef\u001b[0m \u001b[0m_request\u001b[0m\u001b[1;33m(\u001b[0m\u001b[0mself\u001b[0m\u001b[1;33m,\u001b[0m \u001b[0mmethod\u001b[0m\u001b[1;33m,\u001b[0m \u001b[0murl\u001b[0m\u001b[1;33m,\u001b[0m \u001b[0mbody\u001b[0m\u001b[1;33m=\u001b[0m\u001b[1;32mNone\u001b[0m\u001b[1;33m)\u001b[0m\u001b[1;33m:\u001b[0m\u001b[1;33m\u001b[0m\u001b[1;33m\u001b[0m\u001b[0m\n",
      "\u001b[1;32m~\\AppData\\Local\\Continuum\\anaconda3\\lib\\site-packages\\selenium\\webdriver\\remote\\remote_connection.py\u001b[0m in \u001b[0;36m_request\u001b[1;34m(self, method, url, body)\u001b[0m\n\u001b[0;32m    395\u001b[0m \u001b[1;33m\u001b[0m\u001b[0m\n\u001b[0;32m    396\u001b[0m         \u001b[1;32mif\u001b[0m \u001b[0mself\u001b[0m\u001b[1;33m.\u001b[0m\u001b[0mkeep_alive\u001b[0m\u001b[1;33m:\u001b[0m\u001b[1;33m\u001b[0m\u001b[1;33m\u001b[0m\u001b[0m\n\u001b[1;32m--> 397\u001b[1;33m             \u001b[0mresp\u001b[0m \u001b[1;33m=\u001b[0m \u001b[0mself\u001b[0m\u001b[1;33m.\u001b[0m\u001b[0m_conn\u001b[0m\u001b[1;33m.\u001b[0m\u001b[0mrequest\u001b[0m\u001b[1;33m(\u001b[0m\u001b[0mmethod\u001b[0m\u001b[1;33m,\u001b[0m \u001b[0murl\u001b[0m\u001b[1;33m,\u001b[0m \u001b[0mbody\u001b[0m\u001b[1;33m=\u001b[0m\u001b[0mbody\u001b[0m\u001b[1;33m,\u001b[0m \u001b[0mheaders\u001b[0m\u001b[1;33m=\u001b[0m\u001b[0mheaders\u001b[0m\u001b[1;33m)\u001b[0m\u001b[1;33m\u001b[0m\u001b[1;33m\u001b[0m\u001b[0m\n\u001b[0m\u001b[0;32m    398\u001b[0m \u001b[1;33m\u001b[0m\u001b[0m\n\u001b[0;32m    399\u001b[0m             \u001b[0mstatuscode\u001b[0m \u001b[1;33m=\u001b[0m \u001b[0mresp\u001b[0m\u001b[1;33m.\u001b[0m\u001b[0mstatus\u001b[0m\u001b[1;33m\u001b[0m\u001b[1;33m\u001b[0m\u001b[0m\n",
      "\u001b[1;32m~\\AppData\\Local\\Continuum\\anaconda3\\lib\\site-packages\\urllib3\\request.py\u001b[0m in \u001b[0;36mrequest\u001b[1;34m(self, method, url, fields, headers, **urlopen_kw)\u001b[0m\n\u001b[0;32m     68\u001b[0m             return self.request_encode_body(method, url, fields=fields,\n\u001b[0;32m     69\u001b[0m                                             \u001b[0mheaders\u001b[0m\u001b[1;33m=\u001b[0m\u001b[0mheaders\u001b[0m\u001b[1;33m,\u001b[0m\u001b[1;33m\u001b[0m\u001b[1;33m\u001b[0m\u001b[0m\n\u001b[1;32m---> 70\u001b[1;33m                                             **urlopen_kw)\n\u001b[0m\u001b[0;32m     71\u001b[0m \u001b[1;33m\u001b[0m\u001b[0m\n\u001b[0;32m     72\u001b[0m     def request_encode_url(self, method, url, fields=None, headers=None,\n",
      "\u001b[1;32m~\\AppData\\Local\\Continuum\\anaconda3\\lib\\site-packages\\urllib3\\request.py\u001b[0m in \u001b[0;36mrequest_encode_body\u001b[1;34m(self, method, url, fields, headers, encode_multipart, multipart_boundary, **urlopen_kw)\u001b[0m\n\u001b[0;32m    146\u001b[0m         \u001b[0mextra_kw\u001b[0m\u001b[1;33m.\u001b[0m\u001b[0mupdate\u001b[0m\u001b[1;33m(\u001b[0m\u001b[0murlopen_kw\u001b[0m\u001b[1;33m)\u001b[0m\u001b[1;33m\u001b[0m\u001b[1;33m\u001b[0m\u001b[0m\n\u001b[0;32m    147\u001b[0m \u001b[1;33m\u001b[0m\u001b[0m\n\u001b[1;32m--> 148\u001b[1;33m         \u001b[1;32mreturn\u001b[0m \u001b[0mself\u001b[0m\u001b[1;33m.\u001b[0m\u001b[0murlopen\u001b[0m\u001b[1;33m(\u001b[0m\u001b[0mmethod\u001b[0m\u001b[1;33m,\u001b[0m \u001b[0murl\u001b[0m\u001b[1;33m,\u001b[0m \u001b[1;33m**\u001b[0m\u001b[0mextra_kw\u001b[0m\u001b[1;33m)\u001b[0m\u001b[1;33m\u001b[0m\u001b[1;33m\u001b[0m\u001b[0m\n\u001b[0m",
      "\u001b[1;32m~\\AppData\\Local\\Continuum\\anaconda3\\lib\\site-packages\\urllib3\\poolmanager.py\u001b[0m in \u001b[0;36murlopen\u001b[1;34m(self, method, url, redirect, **kw)\u001b[0m\n\u001b[0;32m    319\u001b[0m             \u001b[0mresponse\u001b[0m \u001b[1;33m=\u001b[0m \u001b[0mconn\u001b[0m\u001b[1;33m.\u001b[0m\u001b[0murlopen\u001b[0m\u001b[1;33m(\u001b[0m\u001b[0mmethod\u001b[0m\u001b[1;33m,\u001b[0m \u001b[0murl\u001b[0m\u001b[1;33m,\u001b[0m \u001b[1;33m**\u001b[0m\u001b[0mkw\u001b[0m\u001b[1;33m)\u001b[0m\u001b[1;33m\u001b[0m\u001b[1;33m\u001b[0m\u001b[0m\n\u001b[0;32m    320\u001b[0m         \u001b[1;32melse\u001b[0m\u001b[1;33m:\u001b[0m\u001b[1;33m\u001b[0m\u001b[1;33m\u001b[0m\u001b[0m\n\u001b[1;32m--> 321\u001b[1;33m             \u001b[0mresponse\u001b[0m \u001b[1;33m=\u001b[0m \u001b[0mconn\u001b[0m\u001b[1;33m.\u001b[0m\u001b[0murlopen\u001b[0m\u001b[1;33m(\u001b[0m\u001b[0mmethod\u001b[0m\u001b[1;33m,\u001b[0m \u001b[0mu\u001b[0m\u001b[1;33m.\u001b[0m\u001b[0mrequest_uri\u001b[0m\u001b[1;33m,\u001b[0m \u001b[1;33m**\u001b[0m\u001b[0mkw\u001b[0m\u001b[1;33m)\u001b[0m\u001b[1;33m\u001b[0m\u001b[1;33m\u001b[0m\u001b[0m\n\u001b[0m\u001b[0;32m    322\u001b[0m \u001b[1;33m\u001b[0m\u001b[0m\n\u001b[0;32m    323\u001b[0m         \u001b[0mredirect_location\u001b[0m \u001b[1;33m=\u001b[0m \u001b[0mredirect\u001b[0m \u001b[1;32mand\u001b[0m \u001b[0mresponse\u001b[0m\u001b[1;33m.\u001b[0m\u001b[0mget_redirect_location\u001b[0m\u001b[1;33m(\u001b[0m\u001b[1;33m)\u001b[0m\u001b[1;33m\u001b[0m\u001b[1;33m\u001b[0m\u001b[0m\n",
      "\u001b[1;32m~\\AppData\\Local\\Continuum\\anaconda3\\lib\\site-packages\\urllib3\\connectionpool.py\u001b[0m in \u001b[0;36murlopen\u001b[1;34m(self, method, url, body, headers, retries, redirect, assert_same_host, timeout, pool_timeout, release_conn, chunked, body_pos, **response_kw)\u001b[0m\n\u001b[0;32m    599\u001b[0m                                                   \u001b[0mtimeout\u001b[0m\u001b[1;33m=\u001b[0m\u001b[0mtimeout_obj\u001b[0m\u001b[1;33m,\u001b[0m\u001b[1;33m\u001b[0m\u001b[1;33m\u001b[0m\u001b[0m\n\u001b[0;32m    600\u001b[0m                                                   \u001b[0mbody\u001b[0m\u001b[1;33m=\u001b[0m\u001b[0mbody\u001b[0m\u001b[1;33m,\u001b[0m \u001b[0mheaders\u001b[0m\u001b[1;33m=\u001b[0m\u001b[0mheaders\u001b[0m\u001b[1;33m,\u001b[0m\u001b[1;33m\u001b[0m\u001b[1;33m\u001b[0m\u001b[0m\n\u001b[1;32m--> 601\u001b[1;33m                                                   chunked=chunked)\n\u001b[0m\u001b[0;32m    602\u001b[0m \u001b[1;33m\u001b[0m\u001b[0m\n\u001b[0;32m    603\u001b[0m             \u001b[1;31m# If we're going to release the connection in ``finally:``, then\u001b[0m\u001b[1;33m\u001b[0m\u001b[1;33m\u001b[0m\u001b[1;33m\u001b[0m\u001b[0m\n",
      "\u001b[1;32m~\\AppData\\Local\\Continuum\\anaconda3\\lib\\site-packages\\urllib3\\connectionpool.py\u001b[0m in \u001b[0;36m_make_request\u001b[1;34m(self, conn, method, url, timeout, chunked, **httplib_request_kw)\u001b[0m\n\u001b[0;32m    381\u001b[0m             \u001b[1;32mexcept\u001b[0m \u001b[0mTypeError\u001b[0m\u001b[1;33m:\u001b[0m  \u001b[1;31m# Python 2.6 and older, Python 3\u001b[0m\u001b[1;33m\u001b[0m\u001b[1;33m\u001b[0m\u001b[0m\n\u001b[0;32m    382\u001b[0m                 \u001b[1;32mtry\u001b[0m\u001b[1;33m:\u001b[0m\u001b[1;33m\u001b[0m\u001b[1;33m\u001b[0m\u001b[0m\n\u001b[1;32m--> 383\u001b[1;33m                     \u001b[0mhttplib_response\u001b[0m \u001b[1;33m=\u001b[0m \u001b[0mconn\u001b[0m\u001b[1;33m.\u001b[0m\u001b[0mgetresponse\u001b[0m\u001b[1;33m(\u001b[0m\u001b[1;33m)\u001b[0m\u001b[1;33m\u001b[0m\u001b[1;33m\u001b[0m\u001b[0m\n\u001b[0m\u001b[0;32m    384\u001b[0m                 \u001b[1;32mexcept\u001b[0m \u001b[0mException\u001b[0m \u001b[1;32mas\u001b[0m \u001b[0me\u001b[0m\u001b[1;33m:\u001b[0m\u001b[1;33m\u001b[0m\u001b[1;33m\u001b[0m\u001b[0m\n\u001b[0;32m    385\u001b[0m                     \u001b[1;31m# Remove the TypeError from the exception chain in Python 3;\u001b[0m\u001b[1;33m\u001b[0m\u001b[1;33m\u001b[0m\u001b[1;33m\u001b[0m\u001b[0m\n",
      "\u001b[1;32m~\\AppData\\Local\\Continuum\\anaconda3\\lib\\http\\client.py\u001b[0m in \u001b[0;36mgetresponse\u001b[1;34m(self)\u001b[0m\n\u001b[0;32m   1319\u001b[0m         \u001b[1;32mtry\u001b[0m\u001b[1;33m:\u001b[0m\u001b[1;33m\u001b[0m\u001b[1;33m\u001b[0m\u001b[0m\n\u001b[0;32m   1320\u001b[0m             \u001b[1;32mtry\u001b[0m\u001b[1;33m:\u001b[0m\u001b[1;33m\u001b[0m\u001b[1;33m\u001b[0m\u001b[0m\n\u001b[1;32m-> 1321\u001b[1;33m                 \u001b[0mresponse\u001b[0m\u001b[1;33m.\u001b[0m\u001b[0mbegin\u001b[0m\u001b[1;33m(\u001b[0m\u001b[1;33m)\u001b[0m\u001b[1;33m\u001b[0m\u001b[1;33m\u001b[0m\u001b[0m\n\u001b[0m\u001b[0;32m   1322\u001b[0m             \u001b[1;32mexcept\u001b[0m \u001b[0mConnectionError\u001b[0m\u001b[1;33m:\u001b[0m\u001b[1;33m\u001b[0m\u001b[1;33m\u001b[0m\u001b[0m\n\u001b[0;32m   1323\u001b[0m                 \u001b[0mself\u001b[0m\u001b[1;33m.\u001b[0m\u001b[0mclose\u001b[0m\u001b[1;33m(\u001b[0m\u001b[1;33m)\u001b[0m\u001b[1;33m\u001b[0m\u001b[1;33m\u001b[0m\u001b[0m\n",
      "\u001b[1;32m~\\AppData\\Local\\Continuum\\anaconda3\\lib\\http\\client.py\u001b[0m in \u001b[0;36mbegin\u001b[1;34m(self)\u001b[0m\n\u001b[0;32m    294\u001b[0m         \u001b[1;31m# read until we get a non-100 response\u001b[0m\u001b[1;33m\u001b[0m\u001b[1;33m\u001b[0m\u001b[1;33m\u001b[0m\u001b[0m\n\u001b[0;32m    295\u001b[0m         \u001b[1;32mwhile\u001b[0m \u001b[1;32mTrue\u001b[0m\u001b[1;33m:\u001b[0m\u001b[1;33m\u001b[0m\u001b[1;33m\u001b[0m\u001b[0m\n\u001b[1;32m--> 296\u001b[1;33m             \u001b[0mversion\u001b[0m\u001b[1;33m,\u001b[0m \u001b[0mstatus\u001b[0m\u001b[1;33m,\u001b[0m \u001b[0mreason\u001b[0m \u001b[1;33m=\u001b[0m \u001b[0mself\u001b[0m\u001b[1;33m.\u001b[0m\u001b[0m_read_status\u001b[0m\u001b[1;33m(\u001b[0m\u001b[1;33m)\u001b[0m\u001b[1;33m\u001b[0m\u001b[1;33m\u001b[0m\u001b[0m\n\u001b[0m\u001b[0;32m    297\u001b[0m             \u001b[1;32mif\u001b[0m \u001b[0mstatus\u001b[0m \u001b[1;33m!=\u001b[0m \u001b[0mCONTINUE\u001b[0m\u001b[1;33m:\u001b[0m\u001b[1;33m\u001b[0m\u001b[1;33m\u001b[0m\u001b[0m\n\u001b[0;32m    298\u001b[0m                 \u001b[1;32mbreak\u001b[0m\u001b[1;33m\u001b[0m\u001b[1;33m\u001b[0m\u001b[0m\n",
      "\u001b[1;32m~\\AppData\\Local\\Continuum\\anaconda3\\lib\\http\\client.py\u001b[0m in \u001b[0;36m_read_status\u001b[1;34m(self)\u001b[0m\n\u001b[0;32m    255\u001b[0m \u001b[1;33m\u001b[0m\u001b[0m\n\u001b[0;32m    256\u001b[0m     \u001b[1;32mdef\u001b[0m \u001b[0m_read_status\u001b[0m\u001b[1;33m(\u001b[0m\u001b[0mself\u001b[0m\u001b[1;33m)\u001b[0m\u001b[1;33m:\u001b[0m\u001b[1;33m\u001b[0m\u001b[1;33m\u001b[0m\u001b[0m\n\u001b[1;32m--> 257\u001b[1;33m         \u001b[0mline\u001b[0m \u001b[1;33m=\u001b[0m \u001b[0mstr\u001b[0m\u001b[1;33m(\u001b[0m\u001b[0mself\u001b[0m\u001b[1;33m.\u001b[0m\u001b[0mfp\u001b[0m\u001b[1;33m.\u001b[0m\u001b[0mreadline\u001b[0m\u001b[1;33m(\u001b[0m\u001b[0m_MAXLINE\u001b[0m \u001b[1;33m+\u001b[0m \u001b[1;36m1\u001b[0m\u001b[1;33m)\u001b[0m\u001b[1;33m,\u001b[0m \u001b[1;34m\"iso-8859-1\"\u001b[0m\u001b[1;33m)\u001b[0m\u001b[1;33m\u001b[0m\u001b[1;33m\u001b[0m\u001b[0m\n\u001b[0m\u001b[0;32m    258\u001b[0m         \u001b[1;32mif\u001b[0m \u001b[0mlen\u001b[0m\u001b[1;33m(\u001b[0m\u001b[0mline\u001b[0m\u001b[1;33m)\u001b[0m \u001b[1;33m>\u001b[0m \u001b[0m_MAXLINE\u001b[0m\u001b[1;33m:\u001b[0m\u001b[1;33m\u001b[0m\u001b[1;33m\u001b[0m\u001b[0m\n\u001b[0;32m    259\u001b[0m             \u001b[1;32mraise\u001b[0m \u001b[0mLineTooLong\u001b[0m\u001b[1;33m(\u001b[0m\u001b[1;34m\"status line\"\u001b[0m\u001b[1;33m)\u001b[0m\u001b[1;33m\u001b[0m\u001b[1;33m\u001b[0m\u001b[0m\n",
      "\u001b[1;32m~\\AppData\\Local\\Continuum\\anaconda3\\lib\\socket.py\u001b[0m in \u001b[0;36mreadinto\u001b[1;34m(self, b)\u001b[0m\n\u001b[0;32m    587\u001b[0m         \u001b[1;32mwhile\u001b[0m \u001b[1;32mTrue\u001b[0m\u001b[1;33m:\u001b[0m\u001b[1;33m\u001b[0m\u001b[1;33m\u001b[0m\u001b[0m\n\u001b[0;32m    588\u001b[0m             \u001b[1;32mtry\u001b[0m\u001b[1;33m:\u001b[0m\u001b[1;33m\u001b[0m\u001b[1;33m\u001b[0m\u001b[0m\n\u001b[1;32m--> 589\u001b[1;33m                 \u001b[1;32mreturn\u001b[0m \u001b[0mself\u001b[0m\u001b[1;33m.\u001b[0m\u001b[0m_sock\u001b[0m\u001b[1;33m.\u001b[0m\u001b[0mrecv_into\u001b[0m\u001b[1;33m(\u001b[0m\u001b[0mb\u001b[0m\u001b[1;33m)\u001b[0m\u001b[1;33m\u001b[0m\u001b[1;33m\u001b[0m\u001b[0m\n\u001b[0m\u001b[0;32m    590\u001b[0m             \u001b[1;32mexcept\u001b[0m \u001b[0mtimeout\u001b[0m\u001b[1;33m:\u001b[0m\u001b[1;33m\u001b[0m\u001b[1;33m\u001b[0m\u001b[0m\n\u001b[0;32m    591\u001b[0m                 \u001b[0mself\u001b[0m\u001b[1;33m.\u001b[0m\u001b[0m_timeout_occurred\u001b[0m \u001b[1;33m=\u001b[0m \u001b[1;32mTrue\u001b[0m\u001b[1;33m\u001b[0m\u001b[1;33m\u001b[0m\u001b[0m\n",
      "\u001b[1;31mKeyboardInterrupt\u001b[0m: "
     ]
    }
   ],
   "source": [
    "\n",
    "for keyword in keywords:\n",
    "    try:\n",
    "        driver.get(\"http://clipart-library.com/\")\n",
    "    except TimeoutException:\n",
    "        try:\n",
    "            driver.execute_script(\"window.stop();\")\n",
    "        except:\n",
    "            pass\n",
    "    \n",
    "    try:\n",
    "        driver.find_element_by_id('gsc-i-id1').send_keys(keyword)\n",
    "        search_btn = driver.find_element_by_xpath(\"//button[@class='gsc-search-button gsc-search-button-v2']\")\n",
    "        driver.execute_script(\"arguments[0].click();\",search_btn)\n",
    "        time.sleep(2)\n",
    "        all_links = driver.find_elements_by_class_name('gsc-cursor-page')\n",
    "        size = len(all_links)\n",
    "        img_links = []\n",
    "        for i in range(size):\n",
    "            driver.execute_script(\"arguments[0].click();\",all_links[i])\n",
    "            time.sleep(2)\n",
    "\n",
    "            imgs_a = driver.find_elements_by_xpath(\"//a[@class='gs-image gs-image-scalable']\")\n",
    "            for a in imgs_a:\n",
    "                img_links.append(a.get_attribute('href'))\n",
    "\n",
    "            all_links = driver.find_elements_by_class_name('gsc-cursor-page')\n",
    "    except Exception as e:\n",
    "        print(e)\n",
    "        continue\n",
    "    \n",
    "    img_counter = 0\n",
    "    for img_link in img_links:\n",
    "        try:\n",
    "            driver.get(img_link)\n",
    "            img =driver.find_element_by_id('pagebox').find_element_by_tag_name('img')\n",
    "            alt = img.get_attribute('alt')\n",
    "            src = img.get_attribute('src')\n",
    "            req = Request(src, headers=REQUEST_HEADER)\n",
    "            resp = urlopen(req)\n",
    "            img_counter += 1\n",
    "            save_path = 'imgs/'\n",
    "            extension = src.split('.')[-1]\n",
    "            save_path += keyword.replace(' ','-').lower() + '-' + str(img_counter) + '.' + extension\n",
    "            with open(save_path, 'wb+') as image_file:\n",
    "                image_file.write(resp.read())\n",
    "\n",
    "            del resp\n",
    "            message = \"\"\"\n",
    "                <li class=\"wall\">\n",
    "                <a class=\"thumbimg\" href=\"/view-page/?image_url=/{URL}&title={TITLE}&source={IMGURL}&alt={ALT}\" target=\"_blank\" alt=\"{ALT}\" title=\"{TITLE}\">\n",
    "                <img src=\"{URL}\"  alt=\"{ALT}\" title=\"Find more {TITLE} at {IMGURL}\" width=\"200\" height=\"150\"  >\n",
    "                </a>\n",
    "                </li>\n",
    "                \"\"\"\n",
    "\n",
    "            new_message = message.format(URL=save_path, ALT=alt, TITLE=alt, IMGURL=src)\n",
    "            with open(keyword.replace(\" \",\"-\").lower() +\".php\", \"a\") as file:\n",
    "                file.write(new_message)\n",
    "        except Exception as e:\n",
    "            print(e)\n",
    "    "
   ]
  },
  {
   "cell_type": "code",
   "execution_count": 45,
   "metadata": {},
   "outputs": [],
   "source": []
  },
  {
   "cell_type": "code",
   "execution_count": 52,
   "metadata": {},
   "outputs": [],
   "source": [
    "message = \"\"\"\n",
    "    <li class=\"wall\">\n",
    "    <a class=\"thumbimg\" href=\"/view-page/?image_url=/{URL}&title={TITLE}&source={IMGURL}&alt={ALT}\" target=\"_blank\" alt=\"{ALT}\" title=\"{TITLE}\">\n",
    "    <img src=\"{URL}\"  alt=\"{ALT}\" title=\"Find more {TITLE} at {IMGURL}\" width=\"200\" height=\"150\"  >\n",
    "    </a>\n",
    "    </li>\n",
    "    \"\"\"\n",
    "\n",
    "new_message = message.format(URL='imgs/save_path.png', ALT=alt, TITLE=alt, IMGURL=src)"
   ]
  },
  {
   "cell_type": "code",
   "execution_count": 53,
   "metadata": {},
   "outputs": [
    {
     "data": {
      "text/plain": [
       "'\\n    <li class=\"wall\">\\n    <a class=\"thumbimg\" href=\"/view-page/?image_url=/imgs/save_path.png&title=Love Free PNG Image&source=http://clipart-library.com/image_gallery2/Love-Free-PNG-Image.png&alt=Love Free PNG Image\" target=\"_blank\" alt=\"Love Free PNG Image\" title=\"Love Free PNG Image\">\\n    <img src=\"imgs/save_path.png\"  alt=\"Love Free PNG Image\" title=\"Find more Love Free PNG Image at http://clipart-library.com/image_gallery2/Love-Free-PNG-Image.png\" width=\"200\" height=\"150\"  >\\n    </a>\\n    </li>\\n    '"
      ]
     },
     "execution_count": 53,
     "metadata": {},
     "output_type": "execute_result"
    }
   ],
   "source": [
    "new_message"
   ]
  },
  {
   "cell_type": "code",
   "execution_count": 8,
   "metadata": {},
   "outputs": [
    {
     "name": "stdout",
     "output_type": "stream",
     "text": [
      "['http://clipart-library.com/clipart/1859722.htm',\n",
      " 'http://clipart-library.com/clipart/Love-Free-PNG-Image.htm',\n",
      " 'http://clipart-library.com/love-png.html',\n",
      " 'http://clipart-library.com/clipart/love-png-pic.htm',\n",
      " 'http://clipart-library.com/clipart/love-png.htm',\n",
      " 'http://clipart-library.com/clipart/love.htm',\n",
      " 'http://clipart-library.com/free/love-png.html',\n",
      " 'http://clipart-library.com/clipart/8TGbqBjec.htm',\n",
      " 'http://clipart-library.com/clipart/love-png-image.htm',\n",
      " 'http://clipart-library.com/clipart/love-birds-png-clipart.htm',\n",
      " 'http://clipart-library.com/clipart/love-birds-png.htm',\n",
      " 'http://clipart-library.com/love-vector-png.html',\n",
      " 'http://clipart-library.com/free/i-love-png.html',\n",
      " 'http://clipart-library.com/clipart/love-png-file.htm',\n",
      " 'http://clipart-library.com/free/love-png.html',\n",
      " 'http://clipart-library.com/heart-png.html',\n",
      " 'http://clipart-library.com/love-png.html',\n",
      " 'http://clipart-library.com/clipart/1339685.htm',\n",
      " 'http://clipart-library.com/free/love-clipart-png.html',\n",
      " 'http://clipart-library.com/love-vector-png.html',\n",
      " 'http://clipart-library.com/clipart/Love-Download-PNG.htm',\n",
      " 'http://clipart-library.com/clipart/kcMb8dzni.htm',\n",
      " 'http://clipart-library.com/clip-art/heart-png-transparent-background-23.htm',\n",
      " 'http://clipart-library.com/clipart/love-text.htm',\n",
      " 'http://clipart-library.com/clipart/love-high-quality-png.htm',\n",
      " 'http://clipart-library.com/clip-art/green-heart-transparent-background-7.htm',\n",
      " 'http://clipart-library.com/clipart/love-tattoo-png-clipart.htm',\n",
      " 'http://clipart-library.com/love-vector-png.html',\n",
      " 'http://clipart-library.com/love-vector-png.html',\n",
      " 'http://clipart-library.com/clipart/love-birds.htm',\n",
      " 'http://clipart-library.com/clipart/love-png-images.htm',\n",
      " 'http://clipart-library.com/love-vector-png.html',\n",
      " 'http://clipart-library.com/clip-art/couple-silhouette-love-5.htm',\n",
      " 'http://clipart-library.com/clipart/love-text-free-download-png.htm',\n",
      " 'http://clipart-library.com/clip-art/50-507031_i-miss-you-png-hd-pics-i-love.htm',\n",
      " 'http://clipart-library.com/clipart/8TAp9yATa.htm',\n",
      " 'http://clipart-library.com/love-vector-png.html',\n",
      " 'http://clipart-library.com/clip-art/transparent-heart-png-7.htm',\n",
      " 'http://clipart-library.com/clip-art/heart-image-transparent-1.htm',\n",
      " 'http://clipart-library.com/clip-art/couple-in-love-silhouette-2.htm',\n",
      " 'http://clipart-library.com/love-vector-png.html',\n",
      " 'http://clipart-library.com/clipart/love-png-clipart.htm',\n",
      " 'http://clipart-library.com/clip-art/falling-silhouette-png-24.htm',\n",
      " 'http://clipart-library.com/clipart/love-birds-free-png-image.htm',\n",
      " 'http://clipart-library.com/free/png-love.html',\n",
      " 'http://clipart-library.com/clip-art/transparent-heart-tree-5.htm',\n",
      " 'http://clipart-library.com/love-birds-png.html',\n",
      " 'http://clipart-library.com/free/png-love.html',\n",
      " 'http://clipart-library.com/clipart/love-text-png-hd.htm',\n",
      " 'http://clipart-library.com/clipart/ziX5nzxxT.htm',\n",
      " 'http://clipart-library.com/clip-art/heart-transparent-gif-24.htm',\n",
      " 'http://clipart-library.com/clip-art/heart-symbol-transparent-6.htm',\n",
      " 'http://clipart-library.com/clipart/love-text-png.htm',\n",
      " 'http://clipart-library.com/clipart/1018340.htm',\n",
      " 'http://clipart-library.com/free/png-love.html',\n",
      " 'http://clipart-library.com/clipart/8ixEXXbip.htm',\n",
      " 'http://clipart-library.com/clip-art/transparent-heart-frame-15.htm',\n",
      " 'http://clipart-library.com/clip-art/200-2007725_love-birds-clipart-frame-png-love-birds-vector.htm',\n",
      " 'http://clipart-library.com/clip-art/red-heart-transparent-25.htm',\n",
      " 'http://clipart-library.com/heart-png.html',\n",
      " 'http://clipart-library.com/free/png-love.html',\n",
      " 'http://clipart-library.com/heart-png.html',\n",
      " 'http://clipart-library.com/clipart/BTgrL4ET8.htm',\n",
      " 'http://clipart-library.com/heart-png.html',\n",
      " 'http://clipart-library.com/free/love-png.html',\n",
      " 'http://clipart-library.com/clip-art/180-1806693_faith-png-free-download-faith-hope-love-vector.htm',\n",
      " 'http://clipart-library.com/clip-art/love-couple-silhouette-24.htm',\n",
      " 'http://clipart-library.com/clip-art/76-762723_eiffel-tower-tower-silhouette-heart-love-png-image.htm',\n",
      " 'http://clipart-library.com/clipart/love-text-png-images.htm',\n",
      " 'http://clipart-library.com/clip-art/50-505682_transparent-i-love-you-png.htm',\n",
      " 'http://clipart-library.com/clip-art/transparent-heart-png-21.htm',\n",
      " 'http://clipart-library.com/clipart/love-png-picture.htm',\n",
      " 'http://clipart-library.com/clip-art/heart-png-transparent-2.htm',\n",
      " 'http://clipart-library.com/love-art-images.html',\n",
      " 'http://clipart-library.com/clip-art/groomsmen-silhouette-9.htm',\n",
      " 'http://clipart-library.com/clipart/1696341.htm',\n",
      " 'http://clipart-library.com/clip-art/couple-silhouette-love-7.htm',\n",
      " 'http://clipart-library.com/clip-art/111-1116322_winter-night-cartoon-cute-joy-png-and-vector.htm',\n",
      " 'http://clipart-library.com/heart-png.html',\n",
      " 'http://clipart-library.com/clip-art/aids-ribbon-transparent-background-24.htm',\n",
      " 'http://clipart-library.com/love-birds-clipart.html',\n",
      " 'http://clipart-library.com/clipart/BTgroe6kc.htm',\n",
      " 'http://clipart-library.com/free/png-love.html',\n",
      " 'http://clipart-library.com/free/love-clipart-png.html',\n",
      " 'http://clipart-library.com/clipart/love-tattoo-png-picture-1.htm',\n",
      " 'http://clipart-library.com/clipart/1696317.htm',\n",
      " 'http://clipart-library.com/clip-art/red-heart-transparent-background-4.htm',\n",
      " 'http://clipart-library.com/clipart/1696200.htm',\n",
      " 'http://clipart-library.com/clipart/love-transparent.htm',\n",
      " 'http://clipart-library.com/clip-art/paid-stamp-transparent-24.htm',\n",
      " 'http://clipart-library.com/clip-art/cherry-transparent-17.htm',\n",
      " 'http://clipart-library.com/clip-art/76-766619_sticker-tumblr-cute-love-loveu-love-freetoedit-stickers.htm',\n",
      " 'http://clipart-library.com/clipart/1696317.htm',\n",
      " 'http://clipart-library.com/clipart/hearts-clip-art-32.htm',\n",
      " 'http://clipart-library.com/clip-art/transparent-heart-png-7.htm',\n",
      " 'http://clipart-library.com/clip-art/green-heart-transparent-background-7.htm',\n",
      " 'http://clipart-library.com/clip-art/couple-in-love-silhouette-16.htm',\n",
      " 'http://clipart-library.com/love-vector-png.html',\n",
      " 'http://clipart-library.com/clip-art/couple-transparent-background-21.htm',\n",
      " 'http://clipart-library.com/clip-art/minnie-and-mickey-kissing-silhouette-25.htm',\n",
      " 'http://clipart-library.com/love-vector-png.html',\n",
      " 'http://clipart-library.com/clip-art/transparent-heart-tree-6.htm',\n",
      " 'http://clipart-library.com/clip-art/324433_love-birds-vector-png.htm',\n",
      " 'http://clipart-library.com/clip-art/couple-silhouette-love-5.htm',\n",
      " 'http://clipart-library.com/clip-art/transparent-tree-heart-17.htm',\n",
      " 'http://clipart-library.com/clip-art/tumblr-heart-transparent-6.htm',\n",
      " 'http://clipart-library.com/clip-art/white-heart-png-transparent-6.htm',\n",
      " 'http://clipart-library.com/clip-art/transparent-heart-frame-15.htm',\n",
      " 'http://clipart-library.com/free/love-clipart-png.html',\n",
      " 'http://clipart-library.com/free/heart-love-png.html',\n",
      " 'http://clipart-library.com/clip-art/transparent-heart-png-7.htm',\n",
      " 'http://clipart-library.com/clip-art/heart-symbol-transparent-3.htm',\n",
      " 'http://clipart-library.com/clipart/clip-art-arrow-30.htm',\n",
      " 'http://clipart-library.com/clipart/love-birds-free-download-png.htm',\n",
      " 'http://clipart-library.com/clip-art/heart-transparent-background-18.htm',\n",
      " 'http://clipart-library.com/clip-art/81-817933_love-birds-png-transparent-images-love-bird-logo.htm',\n",
      " 'http://clipart-library.com/heart-png.html',\n",
      " 'http://clipart-library.com/love-vector-png.html',\n",
      " 'http://clipart-library.com/love-vector-png.html',\n",
      " 'http://clipart-library.com/clipart/wedding-free-download-png.htm',\n",
      " 'http://clipart-library.com/clip-art/transparent-tree-heart-12.htm',\n",
      " 'http://clipart-library.com/clip-art/free-transparent-png-5.htm',\n",
      " 'http://clipart-library.com/clip-art/heart-transparent-background-8.htm',\n",
      " 'http://clipart-library.com/clipart/Love-Text-PNG-Picture.htm',\n",
      " 'http://clipart-library.com/free/love-clipart-png.html',\n",
      " 'http://clipart-library.com/clip-art/couple-silhouette-love-7.htm',\n",
      " 'http://clipart-library.com/clip-art/heart-png-images-with-transparent-background-19.htm',\n",
      " 'http://clipart-library.com/clip-art/couple-transparent-17.htm',\n",
      " 'http://clipart-library.com/clip-art/white-transparent-heart-2.htm',\n",
      " 'http://clipart-library.com/clip-art/transparent-heart-image-8.htm',\n",
      " 'http://clipart-library.com/clip-art/770197_live-laugh-love-png.htm',\n",
      " 'http://clipart-library.com/clipart/love-text-download-png.htm',\n",
      " 'http://clipart-library.com/clip-art/love-couple-silhouette-24.htm',\n",
      " 'http://clipart-library.com/clip-art/transparent-flower-drawing-tumblr-4.htm',\n",
      " 'http://clipart-library.com/clipart/love-text-png-clipart.htm',\n",
      " 'http://clipart-library.com/clip-art/red-heart-transparent-25.htm',\n",
      " 'http://clipart-library.com/clip-art/heart-transparent-png-6.htm',\n",
      " 'http://clipart-library.com/clip-art/couple-silhouette-love-17.htm',\n",
      " 'http://clipart-library.com/clip-art/dancing-couples-silhouette-15.htm',\n",
      " 'http://clipart-library.com/free/love-hearts-png.html',\n",
      " 'http://clipart-library.com/clip-art/sex-silhouette-clip-art-20.htm',\n",
      " 'http://clipart-library.com/clip-art/5-59531_rose-single-bud-love-red-png-image-rose.htm',\n",
      " 'http://clipart-library.com/i-love-hearts.html',\n",
      " 'http://clipart-library.com/clipart/love-text-png-file.htm',\n",
      " 'http://clipart-library.com/clipart/happy-valentines-day-png-clipart.htm',\n",
      " 'http://clipart-library.com/clip-art/heart-transparent-image-1.htm',\n",
      " 'http://clipart-library.com/love-art-picture.html',\n",
      " 'http://clipart-library.com/clip-art/heart-png-transparent-2.htm',\n",
      " 'http://clipart-library.com/clip-art/falling-silhouette-png-13.htm',\n",
      " 'http://clipart-library.com/clip-art/transparent-tree-heart-23.htm',\n",
      " 'http://clipart-library.com/clip-art/silhouette-kiss-24.htm',\n",
      " 'http://clipart-library.com/clip-art/heart-image-transparent-1.htm',\n",
      " 'http://clipart-library.com/clip-art/transparent-background-hearts-13.htm',\n",
      " 'http://clipart-library.com/free/love-hearts-png.html',\n",
      " 'http://clipart-library.com/clip-art/marriage-proposal-silhouette-10.htm',\n",
      " 'http://clipart-library.com/clip-art/heart-silhouette-outline-11.htm',\n",
      " 'http://clipart-library.com/i-love-hearts.html',\n",
      " 'http://clipart-library.com/clip-art/heart-image-transparent-background-3.htm',\n",
      " 'http://clipart-library.com/clip-art/black-cross-transparent-background-8.htm',\n",
      " 'http://clipart-library.com/clip-art/love-couple-silhouette-10.htm',\n",
      " 'http://clipart-library.com/clip-art/50-505682_transparent-i-love-you-png.htm',\n",
      " 'http://clipart-library.com/clipart/love-tattoo-transparent.htm',\n",
      " 'http://clipart-library.com/clip-art/couple-silhouette-love-8.htm',\n",
      " 'http://clipart-library.com/clip-art/174-1746970_this-free-icons-png-design-of-japanese-love.htm',\n",
      " 'http://clipart-library.com/clip-art/tumblr-heart-transparent-6.htm',\n",
      " 'http://clipart-library.com/heart-png.html',\n",
      " 'http://clipart-library.com/clip-art/couple-silhouette-vector-10.htm',\n",
      " 'http://clipart-library.com/clip-art/heart-symbol-transparent-3.htm',\n",
      " 'http://clipart-library.com/clip-art/love-birds-silhouette-clip-art-16.htm',\n",
      " 'http://clipart-library.com/clip-art/heart-transparent-png-6.htm',\n",
      " 'http://clipart-library.com/clip-art/human-heart-silhouette-18.htm',\n",
      " 'http://clipart-library.com/clip-art/heart-image-transparent-1.htm',\n",
      " 'http://clipart-library.com/clip-art/heart-outline-silhouette-19.htm',\n",
      " 'http://clipart-library.com/clip-art/transparent-heart-tree-4.htm',\n",
      " 'http://clipart-library.com/clip-art/love-birds-silhouette-4.htm',\n",
      " 'http://clipart-library.com/free/png-love.html',\n",
      " 'http://clipart-library.com/clip-art/letter-clipart-transparent-1.htm',\n",
      " 'http://clipart-library.com/clip-art/aids-ribbon-transparent-background-24.htm',\n",
      " 'http://clipart-library.com/clipart/Love-Hearts-Eyes-Emoji-PNG.htm',\n",
      " 'http://clipart-library.com/free/love-png.html',\n",
      " 'http://clipart-library.com/clip-art/heart-transparent-gif-24.htm',\n",
      " 'http://clipart-library.com/clip-art/heart-symbol-transparent-3.htm',\n",
      " 'http://clipart-library.com/clip-art/transparent-flower-drawing-tumblr-4.htm',\n",
      " 'http://clipart-library.com/clip-art/couple-silhouette-love-2.htm',\n",
      " 'http://clipart-library.com/clipart/love-text-free-png-image.htm',\n",
      " 'http://clipart-library.com/clip-art/couple-silhouette-love-17.htm',\n",
      " 'http://clipart-library.com/clipart/pcodkdbxi.htm',\n",
      " 'http://clipart-library.com/clip-art/dancer-silhouette-tattoos-6.htm',\n",
      " 'http://clipart-library.com/clip-art/heart-outline-transparent-background-19.htm',\n",
      " 'http://clipart-library.com/clipart/1696317.htm',\n",
      " 'http://clipart-library.com/clipart/love-text-free-png-image.htm',\n",
      " 'http://clipart-library.com/clip-art/couple-in-love-silhouette-9.htm',\n",
      " 'http://clipart-library.com/free/heart-love-png.html',\n",
      " 'http://clipart-library.com/clip-art/love-couple-silhouette-18.htm',\n",
      " 'http://clipart-library.com/clip-art/heart-symbol-transparent-6.htm',\n",
      " 'http://clipart-library.com/clipart/1696317.htm',\n",
      " 'http://clipart-library.com/clip-art/preacher-silhouette-7.htm',\n",
      " 'http://clipart-library.com/clip-art/valentines-transparent-20.htm',\n",
      " 'http://clipart-library.com/clip-art/heart-transparent-gif-24.htm',\n",
      " 'http://clipart-library.com/clip-art/couple-silhouette-love-2.htm']\n"
     ]
    }
   ],
   "source": [
    "from pprint import pprint \n",
    "pprint(img_links)"
   ]
  },
  {
   "cell_type": "code",
   "execution_count": null,
   "metadata": {},
   "outputs": [],
   "source": [
    "def download(url):\n",
    "    file_name = raw_input(\"Name: \")\n",
    "    u = urllib2.urlopen(url)\n",
    "    f = open(file_name, 'wb')\n",
    "    meta = u.info()\n",
    "    file_size = int(meta.getheaders(\"Content-Length\")[0])\n",
    "    print (\"Downloading: %s Bytes: %s\" % (file_name, file_size))\n",
    "    file_size_dl = 0\n",
    "    block_size = 8192\n",
    "    while True:\n",
    "        buffer = u.read(block_size)\n",
    "        if not buffer:\n",
    "            break "
   ]
  },
  {
   "cell_type": "code",
   "execution_count": 13,
   "metadata": {},
   "outputs": [],
   "source": [
    "\n",
    "src = 'http://clipart-library.com/images_k/christmas-border-clipart-transparent-background/christmas-border-clipart-transparent-background-4.png'\n",
    "\n",
    "req = Request(src, headers=REQUEST_HEADER)\n",
    "resp = urlopen(req)\n",
    "\n",
    "\n"
   ]
  },
  {
   "cell_type": "code",
   "execution_count": 14,
   "metadata": {},
   "outputs": [],
   "source": [
    "with open('save_path.png', 'wb+') as image_file:\n",
    "    image_file.write(resp.read())"
   ]
  },
  {
   "cell_type": "code",
   "execution_count": 2,
   "metadata": {},
   "outputs": [],
   "source": [
    "from urllib.request import urlopen, Request\n",
    "import urllib.parse as urlparse\n",
    "import time \n",
    "import socket\n",
    "REQUEST_HEADER = {\n",
    "    'User-Agent':\n",
    "    \"Mozilla/5.0 (Windows NT 6.1; WOW64) AppleWebKit/537.36 (KHTML, like Gecko) Chrome/43.0.2357.134 Safari/537.36\"\n",
    "}\n",
    "\n",
    "timeout = 30\n",
    "socket.setdefaulttimeout(timeout)\n"
   ]
  },
  {
   "cell_type": "code",
   "execution_count": null,
   "metadata": {},
   "outputs": [],
   "source": [
    "start = time.time()\n",
    "url = 'http://clipart-library.com/images_k/christmas-border-clipart-transparent-background/christmas-border-clipart-transparent-background-4.png'\n",
    "req = Request(url, headers=REQUEST_HEADER)\n",
    "resp = urlopen(req)\n",
    "print(resp.read())\n",
    "print(time.time() - start)"
   ]
  },
  {
   "cell_type": "code",
   "execution_count": 5,
   "metadata": {},
   "outputs": [
    {
     "name": "stdout",
     "output_type": "stream",
     "text": [
      "imgs/basket-ball-0.ashx\n",
      "imgs/basket-ball-0.jpg\n",
      "imgs/basket-ball-1.jpg\n",
      "imgs/basket-ball-2.jpg\n",
      "imgs/basket-ball-3.jpg\n",
      "imgs/basket-ball-4.jpg\n",
      "imgs/cricket-0.jpg\n",
      "imgs/cricket-1.jpg\n",
      "imgs/cricket-10.jpg\n",
      "imgs/cricket-11.jpg\n",
      "imgs/cricket-12.jpg\n",
      "imgs/cricket-13.jpg\n",
      "imgs/cricket-14.jpg\n",
      "imgs/cricket-15.jpg\n",
      "imgs/cricket-16.jpg\n",
      "imgs/cricket-17.jpg\n",
      "imgs/cricket-18.jpg\n",
      "imgs/cricket-19.jpg\n",
      "imgs/cricket-2.jpg\n",
      "imgs/cricket-20.ashx\n",
      "imgs/cricket-21.jpg\n",
      "imgs/cricket-22.jpg\n",
      "imgs/cricket-23.jpg\n",
      "imgs/cricket-24.jpg\n",
      "imgs/cricket-25.jpg\n",
      "imgs/cricket-26.jpg\n",
      "imgs/cricket-27.jpg\n",
      "imgs/cricket-28.jpg\n",
      "imgs/cricket-3.jpg\n",
      "imgs/cricket-4.ashx\n",
      "imgs/cricket-5.jpg\n",
      "imgs/cricket-6.ashx\n",
      "imgs/cricket-7.jpg\n",
      "imgs/cricket-8.jpg\n",
      "imgs/cricket-9.jpg\n",
      "imgs/cricket-wallpaper-0.jpg\n",
      "imgs/cricket-wallpaper-1.php\n",
      "imgs/Cricket/cricket-0.jpg\n",
      "imgs/Cricket/cricket-1.jpg\n",
      "imgs/Cricket/cricket-10.jpg\n",
      "imgs/Cricket/cricket-11.jpg\n",
      "imgs/Cricket/cricket-12.jpg\n",
      "imgs/Cricket/cricket-13.jpg\n",
      "imgs/Cricket/cricket-14.jpg\n",
      "imgs/Cricket/cricket-15.jpg\n",
      "imgs/Cricket/cricket-16.jpg\n",
      "imgs/Cricket/cricket-17.jpg\n",
      "imgs/Cricket/cricket-18.jpg\n",
      "imgs/Cricket/cricket-19.jpg\n",
      "imgs/Cricket/cricket-2.jpg\n",
      "imgs/Cricket/cricket-20.ashx\n",
      "imgs/Cricket/cricket-21.jpg\n",
      "imgs/Cricket/cricket-22.jpg\n",
      "imgs/Cricket/cricket-23.jpg\n",
      "imgs/Cricket/cricket-24.jpg\n",
      "imgs/Cricket/cricket-25.jpg\n",
      "imgs/Cricket/cricket-26.jpg\n",
      "imgs/Cricket/cricket-27.jpg\n",
      "imgs/Cricket/cricket-28.jpg\n",
      "imgs/Cricket/cricket-29.jpg\n",
      "imgs/Cricket/cricket-3.jpg\n",
      "imgs/Cricket/cricket-30.jpg\n",
      "imgs/Cricket/cricket-31.jpg\n",
      "imgs/Cricket/cricket-4.ashx\n",
      "imgs/Cricket/cricket-5.jpg\n",
      "imgs/Cricket/cricket-6.ashx\n",
      "imgs/Cricket/cricket-7.jpg\n",
      "imgs/Cricket/cricket-8.jpg\n",
      "imgs/Cricket/cricket-9.jpg\n",
      "imgs/Cricket wallpaper/cricket-wallpaper-0.jpg\n",
      "imgs/Cricket wallpaper/cricket-wallpaper-1.php\n",
      "imgs/Cricket wallpaper/cricket-wallpaper-2.php\n",
      "imgs/Cricket-wallpaper/cricket-wallpaper-0.jpg\n",
      "imgs/Cricket-wallpaper/cricket-wallpaper-1.jpg\n",
      "imgs/Cricket-wallpaper/cricket-wallpaper-1.php\n",
      "imgs/Cricket-wallpaper/cricket-wallpaper-2.php\n",
      "imgs/footbal-wallpaper/footbal-wallpaper-0.jpg\n",
      "imgs/footbal-wallpaper/footbal-wallpaper-1.jpg\n"
     ]
    }
   ],
   "source": [
    "import os\n",
    "root = 'imgs'\n",
    "for path, subdirs, files in os.walk(root):\n",
    "    for name in files:\n",
    "        print(path.replace('\\\\','/',)+\"/\"+name)"
   ]
  },
  {
   "cell_type": "code",
   "execution_count": 6,
   "metadata": {},
   "outputs": [],
   "source": [
    "import xml.etree.ElementTree as ET"
   ]
  },
  {
   "cell_type": "code",
   "execution_count": 11,
   "metadata": {},
   "outputs": [],
   "source": [
    "ET.register_namespace(\"\", \"http://www.sitemaps.org/schemas/sitemap/0.9\")\n",
    "ET.register_namespace('image','http://www.google.com/schemas/sitemap-image/1.1')\n"
   ]
  },
  {
   "cell_type": "code",
   "execution_count": 12,
   "metadata": {},
   "outputs": [],
   "source": [
    "tree = ET.parse('sitemap.xml')\n",
    "root = tree.getroot()\n"
   ]
  },
  {
   "cell_type": "code",
   "execution_count": 13,
   "metadata": {},
   "outputs": [],
   "source": [
    "import os\n",
    "root_dir = 'php'\n",
    "for path, subdirs, files in os.walk(root_dir):\n",
    "    for name in files:\n",
    "        url = ET.SubElement(root, \"url\")\n",
    "        imge_url = ET.SubElement(url, \"image:image\")\n",
    "        ET.SubElement(imge_url, \"image:loc\").text = \"https://www.bestfunforall.com/\" +  path.replace('\\\\','/',)+\"/\"+name"
   ]
  },
  {
   "cell_type": "code",
   "execution_count": 14,
   "metadata": {},
   "outputs": [],
   "source": [
    "tree.write(\"sitemap.xml\",xml_declaration=True, encoding='UTF-8')"
   ]
  },
  {
   "cell_type": "code",
   "execution_count": 1,
   "metadata": {},
   "outputs": [],
   "source": [
    "from glob import glob"
   ]
  },
  {
   "cell_type": "code",
   "execution_count": 2,
   "metadata": {},
   "outputs": [
    {
     "data": {
      "text/plain": [
       "['php\\\\imrankhanunospeachwallpapers - Copy.php',\n",
       " 'php\\\\imrankhanunospeachwallpapers.php']"
      ]
     },
     "execution_count": 2,
     "metadata": {},
     "output_type": "execute_result"
    }
   ],
   "source": [
    "files = glob('php/*.php')\n",
    "files"
   ]
  },
  {
   "cell_type": "code",
   "execution_count": 3,
   "metadata": {},
   "outputs": [],
   "source": [
    "from bs4 import BeautifulSoup"
   ]
  },
  {
   "cell_type": "code",
   "execution_count": 6,
   "metadata": {},
   "outputs": [],
   "source": [
    "imgs = []"
   ]
  },
  {
   "cell_type": "code",
   "execution_count": 7,
   "metadata": {},
   "outputs": [],
   "source": [
    "for f in files:\n",
    "    file = open(f)\n",
    "    soup = BeautifulSoup(file, 'html.parser')\n",
    "    imgs.extend(soup.findAll('img'))\n",
    "    file.close()"
   ]
  },
  {
   "cell_type": "code",
   "execution_count": 8,
   "metadata": {},
   "outputs": [
    {
     "data": {
      "text/plain": [
       "108"
      ]
     },
     "execution_count": 8,
     "metadata": {},
     "output_type": "execute_result"
    }
   ],
   "source": [
    "len(imgs)"
   ]
  },
  {
   "cell_type": "code",
   "execution_count": 9,
   "metadata": {},
   "outputs": [],
   "source": [
    "xml_file_head = \"\"\"<?xml version='1.0' encoding='UTF-8'?>\n",
    "<urlset xmlns=\"http://www.sitemaps.org/schemas/sitemap/0.9\" xmlns:xsi=\"http://www.w3.org/2001/XMLSchema-instance\" xsi:schemaLocation=\"http://www.sitemaps.org/schemas/sitemap/0.9 http://www.sitemaps.org/schemas/sitemap/0.9/sitemap.xsd http://www.google.com/schemas/sitemap-image/1.1 http://www.google.com/schemas/sitemap-image/1.1/sitemap-image.xsd\">\"\"\""
   ]
  },
  {
   "cell_type": "code",
   "execution_count": 10,
   "metadata": {},
   "outputs": [],
   "source": [
    "def make_file(file,count,url,title,caption,end_file,start_file):\n",
    "    xml_file_head = \"\"\"<?xml version='1.0' encoding='UTF-8'?>\n",
    "    <urlset xmlns=\"http://www.sitemaps.org/schemas/sitemap/0.9\" xmlns:xsi=\"http://www.w3.org/2001/XMLSchema-instance\" xsi:schemaLocation=\"http://www.sitemaps.org/schemas/sitemap/0.9 http://www.sitemaps.org/schemas/sitemap/0.9/sitemap.xsd http://www.google.com/schemas/sitemap-image/1.1 http://www.google.com/schemas/sitemap-image/1.1/sitemap-image.xsd\">\"\"\"\n",
    "    filename = file.split('.')[0] + str(count) + '.xml'\n",
    "    if start_file == True:\n",
    "        with open(filename,'w') as f:\n",
    "            f.write(xml_file_head)\n",
    "    \n",
    "    msg = \"\"\"\n",
    "        <url>\n",
    "            <image:image>\n",
    "                <image:loc>{url}</image:loc>\n",
    "                <image:caption>{caption}</image:caption>\n",
    "                <image:title>{title}</image:title>\n",
    "            </image:image>\n",
    "        </url>\"\"\"\n",
    "    new_msg = msg.format(url=url,caption=caption,title=title)\n",
    "    \n",
    "    with open(filename,'a') as f:\n",
    "        f.write(new_msg)\n",
    "    \n",
    "    \n",
    "    if end_file == True:\n",
    "        with open(filename,'a') as f:\n",
    "            f.write('\\n</urlset>')"
   ]
  },
  {
   "cell_type": "code",
   "execution_count": 11,
   "metadata": {},
   "outputs": [],
   "source": [
    "count = 0"
   ]
  },
  {
   "cell_type": "code",
   "execution_count": 12,
   "metadata": {},
   "outputs": [],
   "source": [
    "f_count = 1"
   ]
  },
  {
   "cell_type": "code",
   "execution_count": 13,
   "metadata": {},
   "outputs": [],
   "source": [
    "for img in imgs:\n",
    "    end_file = False\n",
    "    start_file = False\n",
    "    src = img.get('src')\n",
    "    title = img.get('title')\n",
    "    caption = img.get('alt')\n",
    "    if count%50 == 0:\n",
    "        if count!=0:\n",
    "            f_count += 1\n",
    "        start_file = True\n",
    "    if (count+1)%50 == 0:\n",
    "        end_file = True\n",
    "    make_file('img_sitemap.php',f_count,src,title,caption,end_file,start_file)\n",
    "    count += 1"
   ]
  },
  {
   "cell_type": "code",
   "execution_count": 14,
   "metadata": {},
   "outputs": [],
   "source": [
    "if end_file == False:\n",
    "    file = 'img_sitemap.php'\n",
    "    if f_count == 0:\n",
    "        filename = file.split('.')[0] + '.xml'\n",
    "    else:\n",
    "        filename = file.split('.')[0] + str(f_count) + '.xml'\n",
    "    with open(filename,'a') as f:\n",
    "        f.write('\\n</urlset>')"
   ]
  },
  {
   "cell_type": "code",
   "execution_count": 66,
   "metadata": {},
   "outputs": [
    {
     "data": {
      "text/plain": [
       "'imrankhanunospeachwallpapers.php'"
      ]
     },
     "execution_count": 66,
     "metadata": {},
     "output_type": "execute_result"
    }
   ],
   "source": [
    "file"
   ]
  },
  {
   "cell_type": "code",
   "execution_count": 23,
   "metadata": {},
   "outputs": [],
   "source": [
    "header = \"\"\"<?xml version=\"1.0\" encoding=\"UTF-8\"?>\n",
    "   <sitemapindex xmlns=\"http://www.sitemaps.org/schemas/sitemap/0.9\">\n",
    "   \"\"\"\n",
    "filename = 'mainsitemap.xml'\n",
    "with open(filename,'w') as f:\n",
    "    f.write(header)"
   ]
  },
  {
   "cell_type": "code",
   "execution_count": 24,
   "metadata": {},
   "outputs": [],
   "source": [
    "msg = \"\"\"\n",
    "        <sitemap>\n",
    "            <loc>{link}</loc>\n",
    "        </sitemap>\n",
    "         \"\"\"\n",
    "with open(filename,'a') as f:\n",
    "    for i in range(1,f_count+1):\n",
    "        name = file.split('.')[0] + str(i) + '.xml'\n",
    "        new_msg = msg.format(link='https://www.bestfunforall.com/'+name)\n",
    "        f.write(new_msg)\n",
    "    f.write('\\n</sitemapindex>')"
   ]
  },
  {
   "cell_type": "code",
   "execution_count": null,
   "metadata": {},
   "outputs": [],
   "source": []
  }
 ],
 "metadata": {
  "kernelspec": {
   "display_name": "Python 3",
   "language": "python",
   "name": "python3"
  },
  "language_info": {
   "codemirror_mode": {
    "name": "ipython",
    "version": 3
   },
   "file_extension": ".py",
   "mimetype": "text/x-python",
   "name": "python",
   "nbconvert_exporter": "python",
   "pygments_lexer": "ipython3",
   "version": "3.7.1"
  }
 },
 "nbformat": 4,
 "nbformat_minor": 2
}
