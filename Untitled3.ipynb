{
 "cells": [
  {
   "cell_type": "code",
   "execution_count": 1,
   "metadata": {},
   "outputs": [],
   "source": [
    "import sys\n",
    "from urllib.request import urlopen, Request\n",
    "import urllib.parse as urlparse\n",
    "import time\n",
    "from bs4 import BeautifulSoup\n",
    "import socket"
   ]
  },
  {
   "cell_type": "code",
   "execution_count": 2,
   "metadata": {},
   "outputs": [],
   "source": [
    "REQUEST_HEADER = {\n",
    "    'User-Agent': \"Mozilla/5.0 (Windows NT 6.1; WOW64) AppleWebKit/537.36 (KHTML, like Gecko) Chrome/43.0.2357.134 Safari/537.36\"\n",
    "}\n"
   ]
  },
  {
   "cell_type": "code",
   "execution_count": 3,
   "metadata": {},
   "outputs": [],
   "source": [
    "comps = []"
   ]
  },
  {
   "cell_type": "code",
   "execution_count": 4,
   "metadata": {},
   "outputs": [],
   "source": [
    "url = 'http://www.druginfosys.com/productlist.aspx/?companycode='\n",
    "socket.setdefaulttimeout(30)\n"
   ]
  },
  {
   "cell_type": "code",
   "execution_count": 5,
   "metadata": {},
   "outputs": [],
   "source": [
    "import pandas as pd"
   ]
  },
  {
   "cell_type": "code",
   "execution_count": null,
   "metadata": {},
   "outputs": [
    {
     "name": "stdout",
     "output_type": "stream",
     "text": [
      "SPADIX PHARMACEUTICALS\n",
      "AR PHARMACEUTICALS\n",
      "ASTELLAS PHARMACEUTICALS\n",
      "GILLMAN PHARMACEUTICALS\n",
      "MEDIFINE LABORATORIES\n",
      "MEDIFINE LABORATORIES\n",
      "PAK RISEN PHARMACEUTICALS\n",
      "MED ASIA PHARMACEUTICALS\n",
      "ROCK PHARMACEUTICALS\n",
      "SAYYED PHARMACEUTICALS\n",
      "RAY PHARMA (PVT) LTD\n",
      "KOHS PHARMACEUTICALS\n",
      "MEDIMARKERS PHARMACEUTICALS\n",
      "UNI-TECH PHARMACEUTICALS (PVT) LTD\n",
      "ISIS PHARMACEUTICAL\n",
      "ASIAN CONTINENTAL (PVT) COMPANY\n",
      "FARMACEUTICS INTERNATIONAL\n",
      "ALIED MEDICAL\n",
      "TG PHARMA\n",
      "AMARANT PHARMACEUTICALS (PVT)\n",
      "ZUMARS PHARMA (PVT) LTD.\n",
      "SCILIFE PHARMA (PRIVATE) LTD\n",
      "HATAF PHARMA\n",
      "SCITECH\n",
      "MCOLSON RESEARCH LABORATORIES\n",
      "CONTINENTAL PH\n",
      "BIOMEDICS\n",
      "ANGELINI PHARMACEUTICALS (PVT) LTD\n",
      "ORGANIC PHARMACEUTICALS.\n",
      "EASTWEST PHARMA\n",
      "PHARMETHICS\n",
      "TRANS ASIAN\n",
      "SEATLE PHARMA PAKISTAN (PVT) LTD.\n",
      "ADCARE PHARMA\n",
      "SHAF PHARMA\n",
      "FASTEL LAB\n",
      "KINSA PHARMACEUTICALS\n",
      "CELLGENE PHARMACEUTICALS INTERNATIONAL\n",
      "AVENTEK PHARMA\n",
      "OCU CARE\n",
      "SAIFVENT\n",
      "TRIPPLE A\n",
      "GT PHARMA\n",
      "AVITAL PHARMA\n",
      "MEDISAVE PHARMACEUTICALS\n",
      "CONVELL LABORATORIES\n",
      "CREST PHARMACEUTICALS\n",
      "Al-Aju\n",
      "Aneeb Pharmaceuticals (Pvt.) Ltd\n",
      "ARSONS PHARMACEUTICALS INDUSTRIES (PVT) LTD\n",
      "AXIS PHARMACEUTICALS\n",
      "Basel Pharmaceuticals\n",
      "Baxter Karachi\n",
      "Berlex Lab International\n",
      "British Pharmaceuticals Ltd\n",
      "Curatech Pharma (Pvt) Ltd\n",
      "GHANI BROTHERS KARACHI\n",
      "HARRISON PHARMACEUTICALS\n",
      "HOOVER PHARMACEUTICALS (PVT) LTD\n",
      "HYGEIA PHARMACEUTICALS\n",
      "KINGS PHARMACEUTICALS\n",
      "Masfa Industries (Pvt) Ltd\n",
      "Medisynth Pharmaceuticals\n",
      "MURFY PHARMACEUTICALS (PVT) LTD\n",
      "Myrtle Pharma Kar.\n",
      "NETWORK MARKETING SERVICE\n",
      "ONCOGENE PHARMACEUTICALS KARACHI\n",
      "PDH LABORATORIES (PVT) LTD\n",
      "PRAYS PHARMACEUTICALS\n",
      "PROMED INTERNATIONAL RAWALPINDI\n",
      "RELIANCE PHARMA\n",
      "Remedy Pharmaceuticals (Pvt) Ltd\n",
      "SAFINA PHARMA (PVT) LTD\n",
      "SATURN PHARMACEUTICALS (PVT) LTD\n",
      "Siam Pharmaceuticals\n",
      "SUNRISE PHARMA (PVT) LTD\n",
      "THE PAK LANE PHARMA UPPER MALL SCHEME PAKISTAN\n",
      "UNITED INTERNATIONAL KARACHI\n",
      "WARAFANA PHARMACEUTICALS\n",
      "ZAYNEB SCIENTIFIC PRODUCTS\n",
      "Humayun International Pvt Ltd.\n",
      "LEGACY PHARMACEUTICALS\n",
      "MED ASIA PHARMACEUTICALS PVT LTD PAKISTAN\n",
      "WINBRAIN RESEARCH LABORATORIES\n",
      "ONYX PHARMACEUTICAL\n",
      "TREAT PHARMACEUTICALS\n",
      "KAIZEN PHARMACEUTICALS PVT LTD.\n",
      "APTCURE PRIVATE LIMITED\n",
      "NEOPHAR HEALTH-CARE\n",
      "GLISTEN PHARMA\n",
      "SERENE PHARMACEUTICALS\n",
      "PHARMA EDGE\n",
      "NEXT PHARMA\n",
      "OLIVE HEALTH CARE (PVT)LIMITED\n",
      "GRATON PHARMA\n",
      "WAHABSONS PHARMA\n",
      "HIRANIS PHARMACEUTICALS PVT LTD\n",
      "MERILINE PHARMACEUTICALS\n",
      "MEDICAUX HEALTHCARE\n",
      "MEDICAUX HEALTHCARE\n",
      "MEDICAUX HEALTHCARE\n",
      "MEDICAUX HEALTHCARE\n",
      "ASIAN CONTINENTAL (PVT) COMPANY\n",
      "SCHERING PLOUGH PAKISTAN (PVT) LTD\n",
      "KNEL PHARMA\n",
      "GENOME PHARMACEUTICALS (PVT) LTD\n",
      "GENOME PHARMACEUTICALS (PVT) LTD\n",
      "MAQ PHARMA\n",
      "MASTER PHARMA\n",
      "ALLMED LABS\n",
      "EG PHARMA\n",
      "EG PHARMACEUTICALS\n",
      "MEDICINECO PHARMACEUTICALS\n",
      "KANEL PHARMACEUTICALS\n",
      "SIMZ PHARMACEUTICALS\n",
      "KAIR PHARMA (SUBSIDIART OF S.J & G)\n",
      "BASIL PHARM\n",
      "ASTARL PVT LTD.\n",
      "SOIN PHARMACEUTICALS\n",
      "JULPHAR PAKISTAN\n",
      "FORAY PHARMACEUTICALS\n",
      "PHARMAFIVE (PVT) LTD\n",
      "ASTER LIFE SCIENCES\n",
      "AGROR PHARMA\n",
      "CIBEX (PRIVATE) LIMITED\n",
      "CIDEX LABORATORIES\n"
     ]
    }
   ],
   "source": [
    "for i in range(1000,2000):\n",
    "    lists = []\n",
    "    try:\n",
    "        response = urlopen(Request(url+str(i), headers=REQUEST_HEADER))\n",
    "        soup =BeautifulSoup(response, 'html.parser')\n",
    "        title = soup.find('h1').text\n",
    "        print(title)\n",
    "        try:\n",
    "            trs =  soup.find('table',attrs={'id':'ContentPlaceHolder1_DGrid'}).findAll('tr')\n",
    "        except:\n",
    "            continue \n",
    "        for tr in trs:\n",
    "            tds = tr.findAll('td')\n",
    "            lis = []\n",
    "            for td in tds:\n",
    "                lis.append(td.text)\n",
    "            lists.append(lis)\n",
    "    except:\n",
    "        continue\n",
    "    comps.append(title)\n",
    "    df = pd.DataFrame(lists)\n",
    "    writer = pd.ExcelWriter('pages/'+str(i)+'.xlsx', engine='xlsxwriter')\n",
    "    df.to_excel(writer, sheet_name='Sheet1',index=False)\n",
    "    writer.save()"
   ]
  },
  {
   "cell_type": "code",
   "execution_count": 1,
   "metadata": {},
   "outputs": [],
   "source": [
    "import glob\n",
    "import pandas as pd"
   ]
  },
  {
   "cell_type": "code",
   "execution_count": 2,
   "metadata": {},
   "outputs": [],
   "source": [
    "files = glob.glob('pages/*.xlsx')"
   ]
  },
  {
   "cell_type": "code",
   "execution_count": 12,
   "metadata": {},
   "outputs": [],
   "source": [
    "df = pd.DataFrame()"
   ]
  },
  {
   "cell_type": "code",
   "execution_count": 13,
   "metadata": {},
   "outputs": [],
   "source": [
    "for f in files:\n",
    "    data = pd.read_excel(f)\n",
    "    df = df.append(data.iloc[1:])"
   ]
  },
  {
   "cell_type": "code",
   "execution_count": 14,
   "metadata": {},
   "outputs": [
    {
     "data": {
      "text/plain": [
       "40437"
      ]
     },
     "execution_count": 14,
     "metadata": {},
     "output_type": "execute_result"
    }
   ],
   "source": [
    "len(df)"
   ]
  },
  {
   "cell_type": "code",
   "execution_count": 15,
   "metadata": {},
   "outputs": [
    {
     "data": {
      "text/html": [
       "<div>\n",
       "<style scoped>\n",
       "    .dataframe tbody tr th:only-of-type {\n",
       "        vertical-align: middle;\n",
       "    }\n",
       "\n",
       "    .dataframe tbody tr th {\n",
       "        vertical-align: top;\n",
       "    }\n",
       "\n",
       "    .dataframe thead th {\n",
       "        text-align: right;\n",
       "    }\n",
       "</style>\n",
       "<table border=\"1\" class=\"dataframe\">\n",
       "  <thead>\n",
       "    <tr style=\"text-align: right;\">\n",
       "      <th></th>\n",
       "      <th>0</th>\n",
       "      <th>1</th>\n",
       "      <th>2</th>\n",
       "      <th>3</th>\n",
       "      <th>4</th>\n",
       "      <th>5</th>\n",
       "      <th>6</th>\n",
       "    </tr>\n",
       "  </thead>\n",
       "  <tbody>\n",
       "    <tr>\n",
       "      <th>27</th>\n",
       "      <td>060205</td>\n",
       "      <td>SPORZON</td>\n",
       "      <td>Ceftriaxone (Na) [1 g]</td>\n",
       "      <td>Inj</td>\n",
       "      <td>Per vial</td>\n",
       "      <td>0.00</td>\n",
       "      <td>321.00</td>\n",
       "    </tr>\n",
       "    <tr>\n",
       "      <th>28</th>\n",
       "      <td>060203</td>\n",
       "      <td>SPORZON</td>\n",
       "      <td>Ceftriaxone (Na) [250 mg]</td>\n",
       "      <td>Inj</td>\n",
       "      <td>Per vial</td>\n",
       "      <td>0.00</td>\n",
       "      <td>101.00</td>\n",
       "    </tr>\n",
       "    <tr>\n",
       "      <th>29</th>\n",
       "      <td>060204</td>\n",
       "      <td>SPORZON</td>\n",
       "      <td>Ceftriaxone (Na) [500 mg]</td>\n",
       "      <td>Inj</td>\n",
       "      <td>Per vial</td>\n",
       "      <td>0.00</td>\n",
       "      <td>170.00</td>\n",
       "    </tr>\n",
       "    <tr>\n",
       "      <th>30</th>\n",
       "      <td>062363</td>\n",
       "      <td>TYZAN</td>\n",
       "      <td>Tizanidine [2 mg]</td>\n",
       "      <td>Tabs</td>\n",
       "      <td>1x10s</td>\n",
       "      <td>0.00</td>\n",
       "      <td>83.00</td>\n",
       "    </tr>\n",
       "    <tr>\n",
       "      <th>31</th>\n",
       "      <td>062368</td>\n",
       "      <td>ZOLCER</td>\n",
       "      <td>Omeprazole [20 mg]</td>\n",
       "      <td>Caps</td>\n",
       "      <td>2x7s</td>\n",
       "      <td>0.00</td>\n",
       "      <td>144.00</td>\n",
       "    </tr>\n",
       "  </tbody>\n",
       "</table>\n",
       "</div>"
      ],
      "text/plain": [
       "         0        1                          2     3         4     5       6\n",
       "27  060205  SPORZON     Ceftriaxone (Na) [1 g]   Inj  Per vial  0.00  321.00\n",
       "28  060203  SPORZON  Ceftriaxone (Na) [250 mg]   Inj  Per vial  0.00  101.00\n",
       "29  060204  SPORZON  Ceftriaxone (Na) [500 mg]   Inj  Per vial  0.00  170.00\n",
       "30  062363    TYZAN          Tizanidine [2 mg]  Tabs     1x10s  0.00   83.00\n",
       "31  062368   ZOLCER         Omeprazole [20 mg]  Caps      2x7s  0.00  144.00"
      ]
     },
     "execution_count": 15,
     "metadata": {},
     "output_type": "execute_result"
    }
   ],
   "source": [
    "df.tail()"
   ]
  },
  {
   "cell_type": "code",
   "execution_count": 17,
   "metadata": {},
   "outputs": [
    {
     "data": {
      "text/html": [
       "<div>\n",
       "<style scoped>\n",
       "    .dataframe tbody tr th:only-of-type {\n",
       "        vertical-align: middle;\n",
       "    }\n",
       "\n",
       "    .dataframe tbody tr th {\n",
       "        vertical-align: top;\n",
       "    }\n",
       "\n",
       "    .dataframe thead th {\n",
       "        text-align: right;\n",
       "    }\n",
       "</style>\n",
       "<table border=\"1\" class=\"dataframe\">\n",
       "  <thead>\n",
       "    <tr style=\"text-align: right;\">\n",
       "      <th></th>\n",
       "      <th>0</th>\n",
       "      <th>1</th>\n",
       "      <th>2</th>\n",
       "      <th>3</th>\n",
       "      <th>4</th>\n",
       "      <th>5</th>\n",
       "      <th>6</th>\n",
       "    </tr>\n",
       "  </thead>\n",
       "  <tbody>\n",
       "    <tr>\n",
       "      <th>1</th>\n",
       "      <td>055113</td>\n",
       "      <td>ABNIL</td>\n",
       "      <td>Orlistat [120 mg]</td>\n",
       "      <td>Caps</td>\n",
       "      <td>30s</td>\n",
       "      <td>892.50</td>\n",
       "      <td>1050.00</td>\n",
       "    </tr>\n",
       "    <tr>\n",
       "      <th>2</th>\n",
       "      <td>008625</td>\n",
       "      <td>ACTHAR GEL</td>\n",
       "      <td>Corticotropin [40 IU/ml]</td>\n",
       "      <td>Inj</td>\n",
       "      <td>Vial</td>\n",
       "      <td>0.00</td>\n",
       "      <td>0.00</td>\n",
       "    </tr>\n",
       "    <tr>\n",
       "      <th>3</th>\n",
       "      <td></td>\n",
       "      <td>ACTI-5</td>\n",
       "      <td>Calcium Gluconoglucoheptonate [150 mg/5ml], Di...</td>\n",
       "      <td>Syrup</td>\n",
       "      <td>120ml</td>\n",
       "      <td>92.57</td>\n",
       "      <td>108.90</td>\n",
       "    </tr>\n",
       "    <tr>\n",
       "      <th>4</th>\n",
       "      <td>006164</td>\n",
       "      <td>ADAMON</td>\n",
       "      <td>Ciclonium (Br) [5 mg/ml]</td>\n",
       "      <td>Inj</td>\n",
       "      <td>2mlx20s</td>\n",
       "      <td>291.72</td>\n",
       "      <td>343.20</td>\n",
       "    </tr>\n",
       "    <tr>\n",
       "      <th>5</th>\n",
       "      <td>006211</td>\n",
       "      <td>ADAMON</td>\n",
       "      <td>Ciclonium (Br) [10 mg]</td>\n",
       "      <td>Tabs</td>\n",
       "      <td>100s</td>\n",
       "      <td>252.50</td>\n",
       "      <td>297.06</td>\n",
       "    </tr>\n",
       "  </tbody>\n",
       "</table>\n",
       "</div>"
      ],
      "text/plain": [
       "        0           1                                                  2  \\\n",
       "1  055113       ABNIL                                  Orlistat [120 mg]   \n",
       "2  008625  ACTHAR GEL                           Corticotropin [40 IU/ml]   \n",
       "3              ACTI-5  Calcium Gluconoglucoheptonate [150 mg/5ml], Di...   \n",
       "4  006164      ADAMON                           Ciclonium (Br) [5 mg/ml]   \n",
       "5  006211      ADAMON                             Ciclonium (Br) [10 mg]   \n",
       "\n",
       "       3        4       5        6  \n",
       "1   Caps      30s  892.50  1050.00  \n",
       "2    Inj     Vial    0.00     0.00  \n",
       "3  Syrup    120ml   92.57   108.90  \n",
       "4    Inj  2mlx20s  291.72   343.20  \n",
       "5   Tabs     100s  252.50   297.06  "
      ]
     },
     "execution_count": 17,
     "metadata": {},
     "output_type": "execute_result"
    }
   ],
   "source": [
    "df.drop_duplicates\n",
    "df.head()"
   ]
  },
  {
   "cell_type": "code",
   "execution_count": 18,
   "metadata": {},
   "outputs": [
    {
     "data": {
      "text/plain": [
       "40437"
      ]
     },
     "execution_count": 18,
     "metadata": {},
     "output_type": "execute_result"
    }
   ],
   "source": [
    "len(df)"
   ]
  },
  {
   "cell_type": "code",
   "execution_count": 20,
   "metadata": {},
   "outputs": [],
   "source": [
    "cats = []"
   ]
  },
  {
   "cell_type": "code",
   "execution_count": 22,
   "metadata": {},
   "outputs": [],
   "source": [
    "for index, row in df.iterrows():\n",
    "    cat = row[3]\n",
    "    if str(cat).lower!= 'nan':\n",
    "        cats.append(cat)"
   ]
  },
  {
   "cell_type": "code",
   "execution_count": 23,
   "metadata": {},
   "outputs": [
    {
     "data": {
      "text/plain": [
       "85"
      ]
     },
     "execution_count": 23,
     "metadata": {},
     "output_type": "execute_result"
    }
   ],
   "source": [
    "len(set(cats))"
   ]
  },
  {
   "cell_type": "code",
   "execution_count": 24,
   "metadata": {},
   "outputs": [],
   "source": [
    "cat_q = []\n",
    "def make_category_q(cat):\n",
    "    q = \"\"\"('{cat_name}','{active}','{status}')\"\"\"\n",
    "    q = q.format(cat_name=cat,active=\"1\",status=\"1\")\n",
    "    cat_q.append(q)\n",
    "for cat in list(set(cats)):\n",
    "    make_category_q(cat)"
   ]
  },
  {
   "cell_type": "code",
   "execution_count": 25,
   "metadata": {},
   "outputs": [],
   "source": [
    "cat_query = ' , '.join(cat_q)"
   ]
  },
  {
   "cell_type": "code",
   "execution_count": 26,
   "metadata": {},
   "outputs": [],
   "source": [
    "cat_query = 'INSERT INTO categories (categories_name,categories_active,categories_status) VALUES \\n' + cat_query "
   ]
  },
  {
   "cell_type": "code",
   "execution_count": 27,
   "metadata": {},
   "outputs": [],
   "source": [
    "category = list(set(cats))"
   ]
  },
  {
   "cell_type": "code",
   "execution_count": 29,
   "metadata": {},
   "outputs": [],
   "source": [
    "with open('catquery.txt','w') as f:\n",
    "    f.write(cat_query)\n"
   ]
  },
  {
   "cell_type": "code",
   "execution_count": 31,
   "metadata": {},
   "outputs": [
    {
     "data": {
      "text/plain": [
       "256"
      ]
     },
     "execution_count": 31,
     "metadata": {},
     "output_type": "execute_result"
    }
   ],
   "source": [
    "category.index(\"Syrup\") + 253"
   ]
  },
  {
   "cell_type": "code",
   "execution_count": 40,
   "metadata": {},
   "outputs": [],
   "source": [
    "prods = []"
   ]
  },
  {
   "cell_type": "code",
   "execution_count": 41,
   "metadata": {},
   "outputs": [],
   "source": [
    "for index, row in df.iterrows():\n",
    "    cat = row[3]\n",
    "    if str(cat).lower() == 'nan':\n",
    "        cat = '338'\n",
    "    else:\n",
    "        cat = str(category.index(cat) + 253)\n",
    "    prod = row[1]\n",
    "    if str(prod).lower() == 'nan':\n",
    "        continue\n",
    "    pprice = str(row[5])\n",
    "    sprice = str(row[6])\n",
    "    genr = row[2]\n",
    "    if str(genr).lower() == 'nan':\n",
    "        genr = ''\n",
    "    genr = genr.replace('[','')\n",
    "    genr = genr.replace(']','')\n",
    "    genr = genr.replace(\"'\",\"\")\n",
    "    q = \"\"\"('{name}', '{cat}', '{qty}', '{prate}', '{active}', '{status}' , '{srate}', '{exp}', '{comp}', '{gen}' )\n",
    "    \"\"\"\n",
    "    q = q.format(name=prod,qty='0',prate=pprice,srate=sprice,active='1',status='1',exp='2021-01-01',comp='1',gen=genr,cat=cat)\n",
    "    prods.append(q)"
   ]
  },
  {
   "cell_type": "code",
   "execution_count": 42,
   "metadata": {},
   "outputs": [
    {
     "data": {
      "text/plain": [
       "40437"
      ]
     },
     "execution_count": 42,
     "metadata": {},
     "output_type": "execute_result"
    }
   ],
   "source": [
    "len(prods)"
   ]
  },
  {
   "cell_type": "code",
   "execution_count": 43,
   "metadata": {},
   "outputs": [
    {
     "data": {
      "text/plain": [
       "40179"
      ]
     },
     "execution_count": 43,
     "metadata": {},
     "output_type": "execute_result"
    }
   ],
   "source": [
    "len(set(prods))"
   ]
  },
  {
   "cell_type": "code",
   "execution_count": 44,
   "metadata": {},
   "outputs": [],
   "source": [
    "prods = list(set(prods))"
   ]
  },
  {
   "cell_type": "code",
   "execution_count": 45,
   "metadata": {},
   "outputs": [],
   "source": [
    "prods = ' , '.join(prods)"
   ]
  },
  {
   "cell_type": "code",
   "execution_count": 46,
   "metadata": {},
   "outputs": [],
   "source": [
    "prods = \"INSERT INTO product(product_name, categories_id, quantity, p_rate, active, status, s_rate, expiary_date, company_id, generic) VALUES \" + prods"
   ]
  },
  {
   "cell_type": "code",
   "execution_count": 47,
   "metadata": {},
   "outputs": [],
   "source": [
    "with open('query.sql','w') as f:\n",
    "    f.write(prods)"
   ]
  },
  {
   "cell_type": "code",
   "execution_count": null,
   "metadata": {},
   "outputs": [],
   "source": [
    "INSERT INTO product(product_name, categories_id, quantity, p_rate, active, status, s_rate, expiary_date, company_id, generic) VALUES "
   ]
  }
 ],
 "metadata": {
  "kernelspec": {
   "display_name": "Python 3",
   "language": "python",
   "name": "python3"
  },
  "language_info": {
   "codemirror_mode": {
    "name": "ipython",
    "version": 3
   },
   "file_extension": ".py",
   "mimetype": "text/x-python",
   "name": "python",
   "nbconvert_exporter": "python",
   "pygments_lexer": "ipython3",
   "version": "3.7.1"
  }
 },
 "nbformat": 4,
 "nbformat_minor": 2
}
